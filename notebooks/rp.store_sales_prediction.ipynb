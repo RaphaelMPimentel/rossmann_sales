{
 "cells": [
  {
   "cell_type": "markdown",
   "id": "0edce3bb",
   "metadata": {
    "heading_collapsed": true
   },
   "source": [
    "# 0.0 imports"
   ]
  },
  {
   "cell_type": "code",
   "execution_count": 3,
   "id": "92fe4767",
   "metadata": {
    "ExecuteTime": {
     "end_time": "2024-11-14T20:03:25.495037Z",
     "start_time": "2024-11-14T20:03:24.353393Z"
    },
    "hidden": true
   },
   "outputs": [],
   "source": [
    "import math\n",
    "import numpy  as np\n",
    "import pandas as pd\n",
    "import random\n",
    "import pickle\n",
    "import requests\n",
    "import warnings\n",
    "import inflection\n",
    "import seaborn as sns\n",
    "import xgboost as xgb\n",
    "import datetime\n",
    "\n",
    "from scipy                 import stats  as ss\n",
    "from boruta                import BorutaPy\n",
    "from matplotlib            import pyplot as plt\n",
    "from IPython.display       import Image\n",
    "from IPython.core.display  import HTML\n",
    "\n",
    "\n",
    "from sklearn.metrics       import mean_absolute_error, mean_squared_error, mean_absolute_percentage_error\n",
    "from sklearn.ensemble      import RandomForestRegressor\n",
    "from sklearn.linear_model  import LinearRegression, Lasso\n",
    "from sklearn.preprocessing import RobustScaler, MinMaxScaler, LabelEncoder\n",
    "\n",
    "warnings.filterwarnings( 'ignore' )"
   ]
  },
  {
   "cell_type": "markdown",
   "id": "edf172e7",
   "metadata": {
    "heading_collapsed": true,
    "hidden": true
   },
   "source": [
    "## 0.1 helper functions"
   ]
  },
  {
   "cell_type": "code",
   "execution_count": 4,
   "id": "6190dfcb",
   "metadata": {
    "ExecuteTime": {
     "end_time": "2024-11-14T20:03:27.112911Z",
     "start_time": "2024-11-14T20:03:27.089668Z"
    },
    "hidden": true
   },
   "outputs": [],
   "source": [
    "def cross_validation(x_training, kfold, model_name, model, verbose=False):\n",
    "    mae_list = []\n",
    "    mape_list = []\n",
    "    rmse_list = []\n",
    "    for k in reversed(range( 1, kfold+1)):\n",
    "        if verbose:\n",
    "            print('\\nKFold Number: {}'.format(k))\n",
    "        # start and end date for validation \n",
    "        validation_start_date = x_training['date'].max() - datetime.timedelta(days=k*6*7)\n",
    "        validation_end_date = x_training['date'].max() - datetime.timedelta(days=(k-1)*6*7)\n",
    "\n",
    "        # filtering dataset\n",
    "        training = x_training[x_training['date'] < validation_start_date]\n",
    "        validation = x_training[(x_training['date'] >= validation_start_date) & (x_training['date'] <= validation_end_date)]\n",
    "\n",
    "        # training and validation dataset\n",
    "        # training\n",
    "        xtraining = training.drop(['date', 'sales'], axis=1) \n",
    "        ytraining = training['sales']\n",
    "\n",
    "        # validation\n",
    "        xvalidation = validation.drop(['date', 'sales'], axis=1)\n",
    "        yvalidation = validation['sales']\n",
    "\n",
    "        # model\n",
    "        m = model.fit(xtraining, ytraining)\n",
    "\n",
    "        # prediction\n",
    "        yhat = m.predict(xvalidation)\n",
    "\n",
    "        # performance\n",
    "        m_result = ml_error(model_name, np.expm1(yvalidation), np.expm1(yhat))\n",
    "\n",
    "        # store performance of each kfold iteration\n",
    "        mae_list.append(m_result['MAE'])\n",
    "        mape_list.append(m_result['MAPE'])\n",
    "        rmse_list.append(m_result['RMSE'])\n",
    "\n",
    "    return pd.DataFrame({'Model Name': model_name,\n",
    "                          'MAE CV': np.round(np.mean(mae_list), 2).astype(str) + ' +/- ' + np.round(np.std(mae_list), 2).astype(str),\n",
    "                          'MAPE CV': np.round(np.mean(mape_list), 2).astype(str) + ' +/- ' + np.round(np.std(mape_list), 2).astype(str),\n",
    "                          'RMSE CV': np.round(np.mean(rmse_list), 2).astype(str) + ' +/- ' + np.round(np.std(rmse_list), 2).astype(str)}, index=[0])\n",
    "\n",
    "def ml_error(model_name, y, yhat):\n",
    "    mae = mean_absolute_error(y, yhat)\n",
    "    mape = mean_absolute_percentage_error(y, yhat)\n",
    "    rmse = np.sqrt(mean_squared_error(y, yhat))\n",
    "    \n",
    "    return pd.DataFrame({'Model Name': model_name,\n",
    "                         'MAE': mae,\n",
    "                         'MAPE': mape,\n",
    "                         'RMSE': rmse}, index=[0])\n",
    "\n",
    "def cramer_v( x, y ):\n",
    "    cm = pd.crosstab( x, y ).values\n",
    "    n = cm.sum()\n",
    "    r, k = cm.shape\n",
    "    \n",
    "    chi2 = ss.chi2_contingency( cm )[0]\n",
    "    chi2corr = max( 0, chi2 - (k-1)*(r-1)/(n-1) )\n",
    "    \n",
    "    kcorr = k - (k-1)**2/(n-1)\n",
    "    rcorr = r - (r-1)**2/(n-1)\n",
    "    \n",
    "    return np.sqrt( (chi2corr/n) / ( min( kcorr-1, rcorr-1 ) ) )\n",
    "\n",
    "def jupyter_settings():\n",
    "    %matplotlib inline\n",
    "    \n",
    "    plt.style.use( 'bmh' )\n",
    "    plt.rcParams['figure.figsize'] = [25, 12]\n",
    "    plt.rcParams['font.size'] = 24\n",
    "    \n",
    "#     display( HTML( '<style>.container { width:100% !important; }</style>') )\n",
    "#     pd.options.display.max_columns = None\n",
    "#     pd.options.display.max_rows = None\n",
    "#     pd.set_option( 'display.expand_frame_repr', False )\n",
    "    \n",
    "    sns.set()"
   ]
  },
  {
   "cell_type": "code",
   "execution_count": 5,
   "id": "08816b4c",
   "metadata": {
    "ExecuteTime": {
     "end_time": "2024-11-14T20:03:31.215581Z",
     "start_time": "2024-11-14T20:03:31.193652Z"
    },
    "hidden": true
   },
   "outputs": [],
   "source": [
    "jupyter_settings()"
   ]
  },
  {
   "cell_type": "markdown",
   "id": "e342265e",
   "metadata": {
    "heading_collapsed": true,
    "hidden": true
   },
   "source": [
    "## 0.2 load dataset"
   ]
  },
  {
   "cell_type": "code",
   "execution_count": 6,
   "id": "6a630927",
   "metadata": {
    "ExecuteTime": {
     "end_time": "2024-11-14T20:03:33.329693Z",
     "start_time": "2024-11-14T20:03:32.964766Z"
    },
    "hidden": true
   },
   "outputs": [],
   "source": [
    "df_sales_raw = pd.read_csv('../data/train.csv', low_memory=False)\n",
    "df_store_raw = pd.read_csv('../data/store.csv', low_memory=False)\n",
    "\n",
    "# merge\n",
    "df_raw = pd.merge(df_sales_raw, df_store_raw, how='left', on='Store')"
   ]
  },
  {
   "cell_type": "markdown",
   "id": "872feaa2",
   "metadata": {
    "heading_collapsed": true
   },
   "source": [
    "# 1.0 data description"
   ]
  },
  {
   "cell_type": "code",
   "execution_count": 7,
   "id": "0313b293",
   "metadata": {
    "ExecuteTime": {
     "end_time": "2024-11-14T20:03:34.463780Z",
     "start_time": "2024-11-14T20:03:34.359791Z"
    },
    "hidden": true
   },
   "outputs": [],
   "source": [
    "df1 = df_raw.copy()"
   ]
  },
  {
   "cell_type": "markdown",
   "id": "fef4c06f",
   "metadata": {
    "hidden": true
   },
   "source": [
    "## 1.1 rename columns"
   ]
  },
  {
   "cell_type": "code",
   "execution_count": 8,
   "id": "efde5c35",
   "metadata": {
    "ExecuteTime": {
     "end_time": "2024-11-14T20:03:35.669914Z",
     "start_time": "2024-11-14T20:03:35.664880Z"
    },
    "hidden": true
   },
   "outputs": [],
   "source": [
    "cols_old = ['Store', 'DayOfWeek', 'Date', 'Sales', 'Customers', 'Open', 'Promo',\n",
    "       'StateHoliday', 'SchoolHoliday', 'StoreType', 'Assortment',\n",
    "       'CompetitionDistance', 'CompetitionOpenSinceMonth',\n",
    "       'CompetitionOpenSinceYear', 'Promo2', 'Promo2SinceWeek',\n",
    "       'Promo2SinceYear', 'PromoInterval']\n",
    "\n",
    "snakecase = lambda x: inflection.underscore(x)\n",
    "\n",
    "cols_new = list(map(snakecase, cols_old))\n",
    "\n",
    "# rename\n",
    "df1.columns = cols_new"
   ]
  },
  {
   "cell_type": "markdown",
   "id": "55bec630",
   "metadata": {
    "hidden": true
   },
   "source": [
    "## 1.2 data dimension"
   ]
  },
  {
   "cell_type": "code",
   "execution_count": 9,
   "id": "18013f3a",
   "metadata": {
    "ExecuteTime": {
     "end_time": "2024-11-14T20:03:37.499725Z",
     "start_time": "2024-11-14T20:03:37.495552Z"
    },
    "hidden": true
   },
   "outputs": [
    {
     "name": "stdout",
     "output_type": "stream",
     "text": [
      "number of rows: 1017209\n",
      "number of cols: 18\n"
     ]
    }
   ],
   "source": [
    "print('number of rows: {}'.format(df1.shape[0]))\n",
    "print('number of cols: {}'.format(df1.shape[1]))"
   ]
  },
  {
   "cell_type": "markdown",
   "id": "a6af6893",
   "metadata": {
    "hidden": true
   },
   "source": [
    "## 1.3 data types"
   ]
  },
  {
   "cell_type": "code",
   "execution_count": 10,
   "id": "3cb3f074",
   "metadata": {
    "ExecuteTime": {
     "end_time": "2024-11-14T20:03:38.811987Z",
     "start_time": "2024-11-14T20:03:38.736648Z"
    },
    "hidden": true
   },
   "outputs": [
    {
     "data": {
      "text/plain": [
       "store                                    int64\n",
       "day_of_week                              int64\n",
       "date                            datetime64[ns]\n",
       "sales                                    int64\n",
       "customers                                int64\n",
       "open                                     int64\n",
       "promo                                    int64\n",
       "state_holiday                           object\n",
       "school_holiday                           int64\n",
       "store_type                              object\n",
       "assortment                              object\n",
       "competition_distance                   float64\n",
       "competition_open_since_month           float64\n",
       "competition_open_since_year            float64\n",
       "promo2                                   int64\n",
       "promo2_since_week                      float64\n",
       "promo2_since_year                      float64\n",
       "promo_interval                          object\n",
       "dtype: object"
      ]
     },
     "execution_count": 10,
     "metadata": {},
     "output_type": "execute_result"
    }
   ],
   "source": [
    "df1['date'] = pd.to_datetime(df1['date'])\n",
    "df1.dtypes"
   ]
  },
  {
   "cell_type": "markdown",
   "id": "c08a36ce",
   "metadata": {
    "hidden": true
   },
   "source": [
    "## 1.4 check NA"
   ]
  },
  {
   "cell_type": "code",
   "execution_count": 11,
   "id": "6255b9ef",
   "metadata": {
    "ExecuteTime": {
     "end_time": "2024-11-14T20:03:40.292105Z",
     "start_time": "2024-11-14T20:03:40.191479Z"
    },
    "hidden": true
   },
   "outputs": [
    {
     "data": {
      "text/plain": [
       "store                                0\n",
       "day_of_week                          0\n",
       "date                                 0\n",
       "sales                                0\n",
       "customers                            0\n",
       "open                                 0\n",
       "promo                                0\n",
       "state_holiday                        0\n",
       "school_holiday                       0\n",
       "store_type                           0\n",
       "assortment                           0\n",
       "competition_distance              2642\n",
       "competition_open_since_month    323348\n",
       "competition_open_since_year     323348\n",
       "promo2                               0\n",
       "promo2_since_week               508031\n",
       "promo2_since_year               508031\n",
       "promo_interval                  508031\n",
       "dtype: int64"
      ]
     },
     "execution_count": 11,
     "metadata": {},
     "output_type": "execute_result"
    }
   ],
   "source": [
    "df1.isna().sum()"
   ]
  },
  {
   "cell_type": "markdown",
   "id": "6e31b103",
   "metadata": {
    "ExecuteTime": {
     "end_time": "2024-10-31T20:22:34.423893Z",
     "start_time": "2024-10-31T20:22:34.420702Z"
    },
    "hidden": true
   },
   "source": [
    "## 1.5 fillout NA"
   ]
  },
  {
   "cell_type": "code",
   "execution_count": 12,
   "id": "086b370b",
   "metadata": {
    "ExecuteTime": {
     "end_time": "2024-11-14T20:03:53.786985Z",
     "start_time": "2024-11-14T20:03:41.496376Z"
    },
    "hidden": true
   },
   "outputs": [],
   "source": [
    "# competition_distance\n",
    "df1['competition_distance'] = df1['competition_distance'].apply(lambda x: 200000.0 if math.isnan(x) else x)\n",
    "\n",
    "# competition_open_since_month\n",
    "df1['competition_open_since_month'] = df1.apply(lambda x: x['date'].month if math.isnan(x['competition_open_since_month']) else x['competition_open_since_month'], axis=1)\n",
    "\n",
    "# competition_open_since_year                                 \n",
    "df1['competition_open_since_year'] = df1.apply(lambda x: x['date'].year if math.isnan(x['competition_open_since_year']) else x['competition_open_since_year'], axis=1)\n",
    "\n",
    "# promo2_since_week               \n",
    "df1['promo2_since_week'] = df1.apply(lambda x: x['date'].week if math.isnan(x['promo2_since_week']) else x['promo2_since_week'], axis=1)\n",
    "\n",
    "# promo2_since_year               \n",
    "df1['promo2_since_year'] = df1.apply(lambda x: x['date'].year if math.isnan(x['promo2_since_year']) else x['promo2_since_year'], axis=1)\n",
    "\n",
    "# promo_interval\n",
    "month_map = {1: 'Jan', 2: 'Feb', 3: 'Mar', 4: 'Apr', 5: 'May', 6: 'Jun', 7: 'Jul', 8: 'Aug', 9: 'Sep', 10: 'Oct', 11: 'Nov', 12: 'Dec'}\n",
    "df1['promo_interval'].fillna(0, inplace=True)\n",
    "df1['month_map'] = df1['date'].dt.month.map(month_map)\n",
    "df1['is_promo'] = df1[['promo_interval', 'month_map']].apply(lambda x: 0 if x['promo_interval'] == 0 else 1 if x['month_map'] in x['promo_interval'].split(',') else 0, axis=1)"
   ]
  },
  {
   "cell_type": "markdown",
   "id": "cbc3611d",
   "metadata": {
    "hidden": true
   },
   "source": [
    "## 1.6 change data types"
   ]
  },
  {
   "cell_type": "code",
   "execution_count": 13,
   "id": "399614a6",
   "metadata": {
    "ExecuteTime": {
     "end_time": "2024-11-14T20:03:55.903709Z",
     "start_time": "2024-11-14T20:03:55.870306Z"
    },
    "hidden": true
   },
   "outputs": [],
   "source": [
    "df1['competition_open_since_month'] = df1['competition_open_since_month'].astype(int)\n",
    "df1['competition_open_since_year'] = df1['competition_open_since_year'].astype(int)\n",
    "\n",
    "df1['promo2_since_week'] = df1['promo2_since_week'].astype(int)\n",
    "df1['promo2_since_year'] = df1['promo2_since_year'].astype(int)"
   ]
  },
  {
   "cell_type": "markdown",
   "id": "03bc6bc8",
   "metadata": {
    "hidden": true
   },
   "source": [
    "## 1.7 descriptive statistics "
   ]
  },
  {
   "cell_type": "code",
   "execution_count": 15,
   "id": "1a575cba",
   "metadata": {
    "ExecuteTime": {
     "end_time": "2024-11-14T18:56:56.258851Z",
     "start_time": "2024-11-14T18:56:56.146458Z"
    },
    "hidden": true
   },
   "outputs": [],
   "source": [
    "num_attributes = df1.select_dtypes(include=['int64', 'float'])\n",
    "cat_attributes = df1.select_dtypes(exclude=['int64', 'float', 'datetime64[ns]'])"
   ]
  },
  {
   "cell_type": "markdown",
   "id": "75248019",
   "metadata": {
    "ExecuteTime": {
     "end_time": "2024-11-01T19:45:47.429501Z",
     "start_time": "2024-11-01T19:45:47.418854Z"
    },
    "hidden": true
   },
   "source": [
    "### 1.7.1 numerical attributes"
   ]
  },
  {
   "cell_type": "code",
   "execution_count": 13,
   "id": "322db871",
   "metadata": {
    "ExecuteTime": {
     "end_time": "2024-11-07T18:28:40.069738Z",
     "start_time": "2024-11-07T18:28:39.139795Z"
    },
    "hidden": true
   },
   "outputs": [
    {
     "data": {
      "text/html": [
       "<div>\n",
       "<style scoped>\n",
       "    .dataframe tbody tr th:only-of-type {\n",
       "        vertical-align: middle;\n",
       "    }\n",
       "\n",
       "    .dataframe tbody tr th {\n",
       "        vertical-align: top;\n",
       "    }\n",
       "\n",
       "    .dataframe thead th {\n",
       "        text-align: right;\n",
       "    }\n",
       "</style>\n",
       "<table border=\"1\" class=\"dataframe\">\n",
       "  <thead>\n",
       "    <tr style=\"text-align: right;\">\n",
       "      <th></th>\n",
       "      <th>attributes</th>\n",
       "      <th>min</th>\n",
       "      <th>max</th>\n",
       "      <th>range</th>\n",
       "      <th>mean</th>\n",
       "      <th>median</th>\n",
       "      <th>std</th>\n",
       "      <th>skew</th>\n",
       "      <th>kurtosis</th>\n",
       "    </tr>\n",
       "  </thead>\n",
       "  <tbody>\n",
       "    <tr>\n",
       "      <th>0</th>\n",
       "      <td>store</td>\n",
       "      <td>1.0</td>\n",
       "      <td>1115.0</td>\n",
       "      <td>1114.0</td>\n",
       "      <td>558.429727</td>\n",
       "      <td>558.0</td>\n",
       "      <td>321.908493</td>\n",
       "      <td>-0.000955</td>\n",
       "      <td>-1.200524</td>\n",
       "    </tr>\n",
       "    <tr>\n",
       "      <th>1</th>\n",
       "      <td>day_of_week</td>\n",
       "      <td>1.0</td>\n",
       "      <td>7.0</td>\n",
       "      <td>6.0</td>\n",
       "      <td>3.998341</td>\n",
       "      <td>4.0</td>\n",
       "      <td>1.997390</td>\n",
       "      <td>0.001593</td>\n",
       "      <td>-1.246873</td>\n",
       "    </tr>\n",
       "    <tr>\n",
       "      <th>2</th>\n",
       "      <td>sales</td>\n",
       "      <td>0.0</td>\n",
       "      <td>41551.0</td>\n",
       "      <td>41551.0</td>\n",
       "      <td>5773.818972</td>\n",
       "      <td>5744.0</td>\n",
       "      <td>3849.924283</td>\n",
       "      <td>0.641460</td>\n",
       "      <td>1.778375</td>\n",
       "    </tr>\n",
       "    <tr>\n",
       "      <th>3</th>\n",
       "      <td>customers</td>\n",
       "      <td>0.0</td>\n",
       "      <td>7388.0</td>\n",
       "      <td>7388.0</td>\n",
       "      <td>633.145946</td>\n",
       "      <td>609.0</td>\n",
       "      <td>464.411506</td>\n",
       "      <td>1.598650</td>\n",
       "      <td>7.091773</td>\n",
       "    </tr>\n",
       "    <tr>\n",
       "      <th>4</th>\n",
       "      <td>open</td>\n",
       "      <td>0.0</td>\n",
       "      <td>1.0</td>\n",
       "      <td>1.0</td>\n",
       "      <td>0.830107</td>\n",
       "      <td>1.0</td>\n",
       "      <td>0.375539</td>\n",
       "      <td>-1.758045</td>\n",
       "      <td>1.090723</td>\n",
       "    </tr>\n",
       "    <tr>\n",
       "      <th>5</th>\n",
       "      <td>promo</td>\n",
       "      <td>0.0</td>\n",
       "      <td>1.0</td>\n",
       "      <td>1.0</td>\n",
       "      <td>0.381515</td>\n",
       "      <td>0.0</td>\n",
       "      <td>0.485758</td>\n",
       "      <td>0.487838</td>\n",
       "      <td>-1.762018</td>\n",
       "    </tr>\n",
       "    <tr>\n",
       "      <th>6</th>\n",
       "      <td>school_holiday</td>\n",
       "      <td>0.0</td>\n",
       "      <td>1.0</td>\n",
       "      <td>1.0</td>\n",
       "      <td>0.178647</td>\n",
       "      <td>0.0</td>\n",
       "      <td>0.383056</td>\n",
       "      <td>1.677842</td>\n",
       "      <td>0.815154</td>\n",
       "    </tr>\n",
       "    <tr>\n",
       "      <th>7</th>\n",
       "      <td>competition_distance</td>\n",
       "      <td>20.0</td>\n",
       "      <td>200000.0</td>\n",
       "      <td>199980.0</td>\n",
       "      <td>5935.442677</td>\n",
       "      <td>2330.0</td>\n",
       "      <td>12547.646829</td>\n",
       "      <td>10.242344</td>\n",
       "      <td>147.789712</td>\n",
       "    </tr>\n",
       "    <tr>\n",
       "      <th>8</th>\n",
       "      <td>competition_open_since_month</td>\n",
       "      <td>1.0</td>\n",
       "      <td>12.0</td>\n",
       "      <td>11.0</td>\n",
       "      <td>6.786849</td>\n",
       "      <td>7.0</td>\n",
       "      <td>3.311085</td>\n",
       "      <td>-0.042076</td>\n",
       "      <td>-1.232607</td>\n",
       "    </tr>\n",
       "    <tr>\n",
       "      <th>9</th>\n",
       "      <td>competition_open_since_year</td>\n",
       "      <td>1900.0</td>\n",
       "      <td>2015.0</td>\n",
       "      <td>115.0</td>\n",
       "      <td>2010.324840</td>\n",
       "      <td>2012.0</td>\n",
       "      <td>5.515591</td>\n",
       "      <td>-7.235657</td>\n",
       "      <td>124.071304</td>\n",
       "    </tr>\n",
       "    <tr>\n",
       "      <th>10</th>\n",
       "      <td>promo2</td>\n",
       "      <td>0.0</td>\n",
       "      <td>1.0</td>\n",
       "      <td>1.0</td>\n",
       "      <td>0.500564</td>\n",
       "      <td>1.0</td>\n",
       "      <td>0.500000</td>\n",
       "      <td>-0.002255</td>\n",
       "      <td>-1.999999</td>\n",
       "    </tr>\n",
       "    <tr>\n",
       "      <th>11</th>\n",
       "      <td>promo2_since_week</td>\n",
       "      <td>1.0</td>\n",
       "      <td>52.0</td>\n",
       "      <td>51.0</td>\n",
       "      <td>23.619033</td>\n",
       "      <td>22.0</td>\n",
       "      <td>14.310057</td>\n",
       "      <td>0.178723</td>\n",
       "      <td>-1.184046</td>\n",
       "    </tr>\n",
       "    <tr>\n",
       "      <th>12</th>\n",
       "      <td>promo2_since_year</td>\n",
       "      <td>2009.0</td>\n",
       "      <td>2015.0</td>\n",
       "      <td>6.0</td>\n",
       "      <td>2012.793297</td>\n",
       "      <td>2013.0</td>\n",
       "      <td>1.662657</td>\n",
       "      <td>-0.784436</td>\n",
       "      <td>-0.210075</td>\n",
       "    </tr>\n",
       "    <tr>\n",
       "      <th>13</th>\n",
       "      <td>is_promo</td>\n",
       "      <td>0.0</td>\n",
       "      <td>1.0</td>\n",
       "      <td>1.0</td>\n",
       "      <td>0.165966</td>\n",
       "      <td>0.0</td>\n",
       "      <td>0.372050</td>\n",
       "      <td>1.795644</td>\n",
       "      <td>1.224338</td>\n",
       "    </tr>\n",
       "  </tbody>\n",
       "</table>\n",
       "</div>"
      ],
      "text/plain": [
       "                      attributes     min       max     range         mean  \\\n",
       "0                          store     1.0    1115.0    1114.0   558.429727   \n",
       "1                    day_of_week     1.0       7.0       6.0     3.998341   \n",
       "2                          sales     0.0   41551.0   41551.0  5773.818972   \n",
       "3                      customers     0.0    7388.0    7388.0   633.145946   \n",
       "4                           open     0.0       1.0       1.0     0.830107   \n",
       "5                          promo     0.0       1.0       1.0     0.381515   \n",
       "6                 school_holiday     0.0       1.0       1.0     0.178647   \n",
       "7           competition_distance    20.0  200000.0  199980.0  5935.442677   \n",
       "8   competition_open_since_month     1.0      12.0      11.0     6.786849   \n",
       "9    competition_open_since_year  1900.0    2015.0     115.0  2010.324840   \n",
       "10                        promo2     0.0       1.0       1.0     0.500564   \n",
       "11             promo2_since_week     1.0      52.0      51.0    23.619033   \n",
       "12             promo2_since_year  2009.0    2015.0       6.0  2012.793297   \n",
       "13                      is_promo     0.0       1.0       1.0     0.165966   \n",
       "\n",
       "    median           std       skew    kurtosis  \n",
       "0    558.0    321.908493  -0.000955   -1.200524  \n",
       "1      4.0      1.997390   0.001593   -1.246873  \n",
       "2   5744.0   3849.924283   0.641460    1.778375  \n",
       "3    609.0    464.411506   1.598650    7.091773  \n",
       "4      1.0      0.375539  -1.758045    1.090723  \n",
       "5      0.0      0.485758   0.487838   -1.762018  \n",
       "6      0.0      0.383056   1.677842    0.815154  \n",
       "7   2330.0  12547.646829  10.242344  147.789712  \n",
       "8      7.0      3.311085  -0.042076   -1.232607  \n",
       "9   2012.0      5.515591  -7.235657  124.071304  \n",
       "10     1.0      0.500000  -0.002255   -1.999999  \n",
       "11    22.0     14.310057   0.178723   -1.184046  \n",
       "12  2013.0      1.662657  -0.784436   -0.210075  \n",
       "13     0.0      0.372050   1.795644    1.224338  "
      ]
     },
     "execution_count": 13,
     "metadata": {},
     "output_type": "execute_result"
    }
   ],
   "source": [
    "# central tendency - mean, meadian\n",
    "ct1 = pd.DataFrame(num_attributes.apply(np.mean)).T\n",
    "ct2 = pd.DataFrame(num_attributes.apply(np.median)).T\n",
    "\n",
    "# dispersion - std, min, max, range, skew, kurtosis\n",
    "d1 = pd.DataFrame(num_attributes.apply(np.std)).T\n",
    "d2 = pd.DataFrame(num_attributes.apply(min)).T\n",
    "d3 = pd.DataFrame(num_attributes.apply(max)).T\n",
    "d4 = pd.DataFrame(num_attributes.apply(lambda x: x.max() - x.min())).T\n",
    "d5 = pd.DataFrame(num_attributes.apply(lambda x: x.skew())).T\n",
    "d6 = pd.DataFrame(num_attributes.apply(lambda x: x.kurtosis())).T\n",
    "\n",
    "# concatenat\n",
    "m = pd.concat([d2, d3, d4, ct1, ct2, d1, d5, d6]).T.reset_index()\n",
    "m.columns = ['attributes', 'min', 'max', 'range', 'mean', 'median', 'std', 'skew', 'kurtosis']\n",
    "m"
   ]
  },
  {
   "cell_type": "markdown",
   "id": "2b067b7c",
   "metadata": {
    "hidden": true
   },
   "source": [
    "### 1.7.2 categorical attributes "
   ]
  },
  {
   "cell_type": "code",
   "execution_count": 14,
   "id": "d96c2d27",
   "metadata": {
    "ExecuteTime": {
     "end_time": "2024-11-07T18:28:41.393674Z",
     "start_time": "2024-11-07T18:28:41.272141Z"
    },
    "hidden": true
   },
   "outputs": [
    {
     "data": {
      "text/plain": [
       "state_holiday      4\n",
       "store_type         4\n",
       "assortment         3\n",
       "promo_interval     4\n",
       "month_map         12\n",
       "dtype: int64"
      ]
     },
     "execution_count": 14,
     "metadata": {},
     "output_type": "execute_result"
    }
   ],
   "source": [
    "cat_attributes.apply(lambda x: x.unique().shape[0])"
   ]
  },
  {
   "cell_type": "code",
   "execution_count": 15,
   "id": "3307338d",
   "metadata": {
    "ExecuteTime": {
     "end_time": "2024-11-07T18:28:42.537578Z",
     "start_time": "2024-11-07T18:28:42.295659Z"
    },
    "hidden": true
   },
   "outputs": [
    {
     "data": {
      "image/png": "[encoded data removed]",
      "text/plain": [
       "<Figure size 2500x1200 with 3 Axes>"
      ]
     },
     "metadata": {},
     "output_type": "display_data"
    }
   ],
   "source": [
    "aux = df1[(df1['state_holiday'] != '0') & (df1['sales'] > 0)]\n",
    "\n",
    "plt.subplot(1, 3, 1)\n",
    "sns.boxplot(x='state_holiday', y='sales', data= aux);\n",
    "\n",
    "plt.subplot(1, 3, 2)\n",
    "sns.boxplot(x='store_type', y='sales', data=aux);\n",
    "\n",
    "plt.subplot(1, 3, 3)\n",
    "sns.boxplot(x='assortment', y='sales', data=aux);"
   ]
  },
  {
   "cell_type": "markdown",
   "id": "6dffd2cc",
   "metadata": {
    "heading_collapsed": true
   },
   "source": [
    "# 2.0 feature engineering"
   ]
  },
  {
   "cell_type": "code",
   "execution_count": 14,
   "id": "58640340",
   "metadata": {
    "ExecuteTime": {
     "end_time": "2024-11-14T20:04:03.834978Z",
     "start_time": "2024-11-14T20:04:03.728367Z"
    },
    "hidden": true
   },
   "outputs": [],
   "source": [
    "df2 = df1.copy()"
   ]
  },
  {
   "cell_type": "markdown",
   "id": "e75b29c3",
   "metadata": {
    "heading_collapsed": true,
    "hidden": true
   },
   "source": [
    "## 2.1 mind map"
   ]
  },
  {
   "cell_type": "code",
   "execution_count": null,
   "id": "f936de42",
   "metadata": {
    "ExecuteTime": {
     "end_time": "2024-11-05T16:36:36.164743Z",
     "start_time": "2024-11-05T16:36:36.150778Z"
    },
    "hidden": true
   },
   "outputs": [],
   "source": [
    "Image('../img/MindMapHypothesis.png')"
   ]
  },
  {
   "cell_type": "markdown",
   "id": "7e54bf06",
   "metadata": {
    "heading_collapsed": true,
    "hidden": true
   },
   "source": [
    "## 2.2 hypothesis creation"
   ]
  },
  {
   "cell_type": "markdown",
   "id": "168a23fb",
   "metadata": {
    "ExecuteTime": {
     "end_time": "2024-11-04T21:28:23.871441Z",
     "start_time": "2024-11-04T21:28:23.863464Z"
    },
    "hidden": true
   },
   "source": [
    "### 2.2.1 store hypothesis"
   ]
  },
  {
   "cell_type": "markdown",
   "id": "83b26e4d",
   "metadata": {
    "ExecuteTime": {
     "end_time": "2024-11-04T21:29:18.217372Z",
     "start_time": "2024-11-04T21:29:18.212017Z"
    },
    "hidden": true
   },
   "source": [
    "**1.** Stores with a larger number of employees should sell more.\n",
    "\n",
    "**2.** Stores with greater stock capacity should sell more.\n",
    "\n",
    "**3.** Stores with a larger size should sell more.\n",
    "\n",
    "**4.** Stores with greater assortments should sell more.\n",
    "\n",
    "**5.** Stores with closer competitors should sell less.\n",
    "\n",
    "**6.** Stores with competitors that have been around longer should sell more."
   ]
  },
  {
   "cell_type": "markdown",
   "id": "44f692c9",
   "metadata": {
    "heading_collapsed": true,
    "hidden": true
   },
   "source": [
    "### 2.2.2 product hypothesis"
   ]
  },
  {
   "cell_type": "markdown",
   "id": "5111233c",
   "metadata": {
    "hidden": true
   },
   "source": [
    "**1.** Stores that invest more in marketing should sell more.\n",
    "\n",
    "**2.** Stores with greater product exposure should sell more.\n",
    "\n",
    "**3.** Stores with lower-priced products should sell more.\n",
    "\n",
    "**5.** Stores with more aggressive promotions (larger discounts) should sell more.\n",
    "\n",
    "**6.** Stores with active promotions for longer should sell more.\n",
    "\n",
    "**7.** Stores with more promotion days should sell more.\n",
    "\n",
    "**8.** Stores with more consecutive promotions should sell more."
   ]
  },
  {
   "cell_type": "markdown",
   "id": "742c0856",
   "metadata": {
    "heading_collapsed": true,
    "hidden": true
   },
   "source": [
    "### 2.2.3 time hypothesis"
   ]
  },
  {
   "cell_type": "markdown",
   "id": "7b38cf7b",
   "metadata": {
    "hidden": true
   },
   "source": [
    "**1.** Stores open during the Christmas holiday should sell more.\n",
    "\n",
    "**2.** Stores should sell more over the years.\n",
    "\n",
    "**3.** Stores should sell more in the second half of the year.\n",
    "\n",
    "**4.** Stores should sell more after the 10th of each month.\n",
    "\n",
    "**5.** Stores should sell less on weekends.\n",
    "\n",
    "**6.** Stores should sell less during school holidays."
   ]
  },
  {
   "cell_type": "markdown",
   "id": "aa03c7d0",
   "metadata": {
    "heading_collapsed": true,
    "hidden": true
   },
   "source": [
    "## 2.3 final hypothesis"
   ]
  },
  {
   "cell_type": "markdown",
   "id": "f7a5da77",
   "metadata": {
    "hidden": true
   },
   "source": [
    "**1.** Stores with greater assortments should sell more.\n",
    "\n",
    "**2.** Stores with closer competitors should sell less.\n",
    "\n",
    "**3.** Stores with competitors that have been around longer should sell more.\n",
    "\n",
    "**4.** Stores with active promotions for longer should sell more.\n",
    "\n",
    "**5.** Stores with more promotion days should sell more.\n",
    "\n",
    "**6.** Stores with more consecutive promotions should sell more.\n",
    "\n",
    "**7.** Stores open during the Christmas holiday should sell more.\n",
    "\n",
    "**8.** Stores should sell more over the years.\n",
    "\n",
    "**9.** Stores should sell more in the second half of the year.\n",
    "\n",
    "**10.** Stores should sell more after the 10th of each month.\n",
    "\n",
    "**11.** Stores should sell less on weekends.\n",
    "\n",
    "**12.** Stores should sell less during school holidays."
   ]
  },
  {
   "cell_type": "markdown",
   "id": "8902fd41",
   "metadata": {
    "hidden": true
   },
   "source": [
    "## 2.4 feature engineering"
   ]
  },
  {
   "cell_type": "code",
   "execution_count": 15,
   "id": "68a771c3",
   "metadata": {
    "ExecuteTime": {
     "end_time": "2024-11-14T20:04:16.005012Z",
     "start_time": "2024-11-14T20:04:06.487331Z"
    },
    "hidden": true
   },
   "outputs": [],
   "source": [
    "df2['year'] = df2['date'].dt.year\n",
    "\n",
    "df2['month'] = df2['date'].dt.month\n",
    "\n",
    "df2['day'] = df2['date'].dt.day\n",
    "\n",
    "df2['week_of_year'] = df2['date'].dt.isocalendar().week\n",
    "\n",
    "df2['year_week'] = df2['date'].dt.strftime( '%Y-%W' )\n",
    "\n",
    "df2['competition_since'] = df2.apply( lambda x: datetime.datetime( year=x['competition_open_since_year'], month=x['competition_open_since_month'],day=1 ), axis=1 )\n",
    "df2['competition_time_month'] = ( ( df2['date'] - df2['competition_since'] )/30 ).apply( lambda x: x.days ).astype( int )\n",
    "\n",
    "df2['promo_since'] = df2['promo2_since_year'].astype( str ) + '-' + df2['promo2_since_week'].astype( str )\n",
    "df2['promo_since'] = df2['promo_since'].apply( lambda x: datetime.datetime.strptime( x + '-1', '%Y-%W-%w' ) - datetime.timedelta( days=7 ) )\n",
    "df2['promo_time_week'] = ( ( df2['date'] - df2['promo_since'] )/7 ).apply( lambda x: x.days ).astype( int )\n",
    "\n",
    "df2['assortment'] = df2['assortment'].apply( lambda x: 'basic' if x == 'a' else 'extra' if x == 'b' else 'extended' )\n",
    "\n",
    "df2['state_holiday'] = df2['state_holiday'].apply( lambda x: 'public_holiday' if x == 'a' else 'easter_holiday' if x == 'b' else 'christmas' if x == 'c' else 'regular_day' )"
   ]
  },
  {
   "cell_type": "markdown",
   "id": "dc4413fd",
   "metadata": {
    "heading_collapsed": true
   },
   "source": [
    "# 3.0 variable filtering"
   ]
  },
  {
   "cell_type": "code",
   "execution_count": 16,
   "id": "981c78a7",
   "metadata": {
    "ExecuteTime": {
     "end_time": "2024-11-14T20:04:17.924335Z",
     "start_time": "2024-11-14T20:04:17.786576Z"
    },
    "hidden": true
   },
   "outputs": [],
   "source": [
    "df3 = df2.copy()"
   ]
  },
  {
   "cell_type": "markdown",
   "id": "f0562a0a",
   "metadata": {
    "hidden": true
   },
   "source": [
    "## 3.1 row filtering"
   ]
  },
  {
   "cell_type": "code",
   "execution_count": 17,
   "id": "a8ca3a03",
   "metadata": {
    "ExecuteTime": {
     "end_time": "2024-11-14T20:04:19.198141Z",
     "start_time": "2024-11-14T20:04:19.100800Z"
    },
    "hidden": true
   },
   "outputs": [],
   "source": [
    "df3 = df3[(df3['open'] != 0) & (df3['sales'] > 0)]"
   ]
  },
  {
   "cell_type": "markdown",
   "id": "496bf0cf",
   "metadata": {
    "hidden": true
   },
   "source": [
    "## 3.2 column filtering "
   ]
  },
  {
   "cell_type": "code",
   "execution_count": 18,
   "id": "726933aa",
   "metadata": {
    "ExecuteTime": {
     "end_time": "2024-11-14T20:04:20.580275Z",
     "start_time": "2024-11-14T20:04:20.514077Z"
    },
    "hidden": true
   },
   "outputs": [],
   "source": [
    "cols_drop = ['customers', 'open', 'promo_interval', 'month_map']\n",
    "df3 = df3.drop(cols_drop, axis=1)"
   ]
  },
  {
   "cell_type": "markdown",
   "id": "c7dfb431",
   "metadata": {
    "heading_collapsed": true
   },
   "source": [
    "# 4.0 data analysis exploration"
   ]
  },
  {
   "cell_type": "code",
   "execution_count": 19,
   "id": "988c29fb",
   "metadata": {
    "ExecuteTime": {
     "end_time": "2024-11-14T20:04:22.561871Z",
     "start_time": "2024-11-14T20:04:22.520854Z"
    },
    "hidden": true
   },
   "outputs": [],
   "source": [
    "df4 = df3.copy()"
   ]
  },
  {
   "cell_type": "markdown",
   "id": "955cfd6a",
   "metadata": {
    "heading_collapsed": true,
    "hidden": true
   },
   "source": [
    "## 4.1 uni"
   ]
  },
  {
   "cell_type": "markdown",
   "id": "44c2e9a6",
   "metadata": {
    "hidden": true
   },
   "source": [
    "### 4.1.1 response"
   ]
  },
  {
   "cell_type": "code",
   "execution_count": null,
   "id": "6dcdf1fd",
   "metadata": {
    "ExecuteTime": {
     "end_time": "2024-11-05T17:25:05.992920Z",
     "start_time": "2024-11-05T17:25:05.204080Z"
    },
    "hidden": true
   },
   "outputs": [],
   "source": [
    "sns.distplot(df4['sales']);"
   ]
  },
  {
   "cell_type": "markdown",
   "id": "1a1eb94a",
   "metadata": {
    "hidden": true
   },
   "source": [
    "### 4.1.2 numerical"
   ]
  },
  {
   "cell_type": "code",
   "execution_count": null,
   "id": "dd5d9877",
   "metadata": {
    "ExecuteTime": {
     "end_time": "2024-11-05T17:25:10.813164Z",
     "start_time": "2024-11-05T17:25:09.800983Z"
    },
    "hidden": true
   },
   "outputs": [],
   "source": [
    "num_attributes.hist(bins=25);"
   ]
  },
  {
   "cell_type": "markdown",
   "id": "b0cadb23",
   "metadata": {
    "hidden": true
   },
   "source": [
    "### 4.1.3 categorical"
   ]
  },
  {
   "cell_type": "code",
   "execution_count": null,
   "id": "d331aeab",
   "metadata": {
    "ExecuteTime": {
     "end_time": "2024-11-05T17:25:18.812443Z",
     "start_time": "2024-11-05T17:25:15.791626Z"
    },
    "hidden": true
   },
   "outputs": [],
   "source": [
    "#state_holiday\n",
    "plt.subplot(3, 2, 1)\n",
    "a = df4[df4['state_holiday'] != 'regular_day']\n",
    "sns.countplot(x='state_holiday', data=a);\n",
    "\n",
    "plt.subplot(3, 2, 2)\n",
    "sns.kdeplot(df4[df4['state_holiday'] == 'public_holiday']['sales'], label='public_holiday', shade=True)\n",
    "sns.kdeplot(df4[df4['state_holiday'] == 'easter_holiday']['sales'], label='easter_holiday', shade=True)\n",
    "sns.kdeplot(df4[df4['state_holiday'] == 'christmas']['sales'], label='christmas', shade=True)\n",
    "\n",
    "#store_type\n",
    "plt.subplot(3, 2, 3)\n",
    "sns.countplot(x='store_type', data=df4)\n",
    "\n",
    "plt.subplot(3, 2, 4)\n",
    "sns.kdeplot(df4[df4['store_type'] == 'a']['sales'], label='a', shade=True)\n",
    "sns.kdeplot(df4[df4['store_type'] == 'b']['sales'], label='b', shade=True)\n",
    "sns.kdeplot(df4[df4['store_type'] == 'c']['sales'], label='c', shade=True)\n",
    "sns.kdeplot(df4[df4['store_type'] == 'd']['sales'], label='d', shade=True)\n",
    "\n",
    "#assortment\n",
    "plt.subplot(3, 2, 5)\n",
    "sns.countplot(x='assortment', data=df4)\n",
    "\n",
    "plt.subplot(3, 2, 6)\n",
    "sns.kdeplot(df4[df4['assortment'] == 'extended']['sales'], label='extended', shade=True)\n",
    "sns.kdeplot(df4[df4['assortment'] == 'basic']['sales'], label='basic', shade=True)\n",
    "sns.kdeplot(df4[df4['assortment'] == 'extra']['sales'], label='extra', shade=True)\n"
   ]
  },
  {
   "cell_type": "markdown",
   "id": "ee9d847d",
   "metadata": {
    "heading_collapsed": true,
    "hidden": true
   },
   "source": [
    "## 4.2 bi"
   ]
  },
  {
   "cell_type": "markdown",
   "id": "ee110907",
   "metadata": {
    "ExecuteTime": {
     "end_time": "2024-11-04T22:52:11.714551Z",
     "start_time": "2024-11-04T22:52:11.708152Z"
    },
    "hidden": true
   },
   "source": [
    "### 1. Stores with greater assortments should sell more (FALSE)"
   ]
  },
  {
   "cell_type": "code",
   "execution_count": null,
   "id": "3345fdf2",
   "metadata": {
    "ExecuteTime": {
     "end_time": "2024-11-05T17:17:04.283977Z",
     "start_time": "2024-11-05T17:17:04.141998Z"
    },
    "hidden": true
   },
   "outputs": [],
   "source": [
    "aux = df4[['assortment', 'sales']].groupby('assortment').sum().reset_index()\n",
    "sns.barplot(x='assortment', y='sales', data=aux);"
   ]
  },
  {
   "cell_type": "markdown",
   "id": "31c46ec7",
   "metadata": {
    "hidden": true
   },
   "source": [
    "### 2. Stores with closer competitors should sell less (FALSE)"
   ]
  },
  {
   "cell_type": "code",
   "execution_count": null,
   "id": "09e4a738",
   "metadata": {
    "ExecuteTime": {
     "end_time": "2024-11-05T17:17:20.085386Z",
     "start_time": "2024-11-05T17:17:19.830280Z"
    },
    "hidden": true
   },
   "outputs": [],
   "source": [
    "aux = df4[['competition_distance', 'sales']].groupby('competition_distance').sum().reset_index()\n",
    "\n",
    "plt.subplot(1, 2, 1)\n",
    "sns.scatterplot(x='competition_distance', y='sales', data=aux);\n",
    "\n",
    "plt.subplot(1, 2, 2)\n",
    "bins = list(np.arange(0, 20000, 1000))\n",
    "aux['competition_binned'] = pd.cut(aux['competition_distance'], bins=bins)\n",
    "aux1 = aux[['competition_binned', 'sales']].groupby('competition_binned').sum().reset_index()\n",
    "sns.barplot(x='competition_binned', y='sales', data=aux1);"
   ]
  },
  {
   "cell_type": "markdown",
   "id": "aae85450",
   "metadata": {
    "hidden": true
   },
   "source": [
    "### 3. Stores with competitors that have been around longer should sell more (FALSE) "
   ]
  },
  {
   "cell_type": "code",
   "execution_count": null,
   "id": "050be6ee",
   "metadata": {
    "ExecuteTime": {
     "end_time": "2024-11-05T17:17:26.529918Z",
     "start_time": "2024-11-05T17:17:25.652099Z"
    },
    "hidden": true
   },
   "outputs": [],
   "source": [
    "plt.subplot(1, 3, 1)\n",
    "aux = df4[['competition_time_month', 'sales']].groupby('competition_time_month').sum().reset_index()\n",
    "aux1 = aux[(aux['competition_time_month'] < 120) & (aux['competition_time_month'] != 0)]\n",
    "sns.barplot(x='competition_time_month', y='sales', data=aux1);\n",
    "\n",
    "plt.subplot(1, 3, 2)\n",
    "sns.regplot(x='competition_time_month', y='sales', data=aux1);\n",
    "\n",
    "plt.subplot(1, 3, 3)\n",
    "x = sns.heatmap(aux.corr(method='pearson'), annot=True);\n",
    "bottom, top = x.get_ylim()\n",
    "x.set_ylim(bottom+0.5, top-0.5);"
   ]
  },
  {
   "cell_type": "markdown",
   "id": "e2dc9bd4",
   "metadata": {
    "hidden": true
   },
   "source": [
    "### 4.0 Stores with active promotions for longer should sell more (FALSE)"
   ]
  },
  {
   "cell_type": "code",
   "execution_count": null,
   "id": "641246fc",
   "metadata": {
    "ExecuteTime": {
     "end_time": "2024-11-05T17:20:47.568097Z",
     "start_time": "2024-11-05T17:20:45.680716Z"
    },
    "hidden": true,
    "scrolled": false
   },
   "outputs": [],
   "source": [
    "aux = df4[['promo_time_week', 'sales']].groupby('promo_time_week').sum().reset_index()\n",
    "\n",
    "grid = plt.GridSpec(2, 3)\n",
    "\n",
    "plt.subplot(grid[0,0])\n",
    "aux2 = aux[aux['promo_time_week'] > 0]\n",
    "sns.barplot(x='promo_time_week', y='sales', data=aux2);\n",
    "\n",
    "plt.subplot(grid[0,1])\n",
    "sns.regplot(x='promo_time_week', y='sales', data=aux2);\n",
    "\n",
    "plt.subplot(grid[1,0])\n",
    "aux3 = aux[aux['promo_time_week'] < 0]\n",
    "sns.barplot(x='promo_time_week', y='sales', data=aux3);\n",
    "\n",
    "plt.subplot(grid[1,1])\n",
    "sns.regplot(x='promo_time_week', y='sales', data=aux3);\n",
    "\n",
    "plt.subplot(grid[:,2])\n",
    "sns.heatmap(aux.corr(method='pearson'), annot=True);"
   ]
  },
  {
   "cell_type": "markdown",
   "id": "72e584b1",
   "metadata": {
    "hidden": true
   },
   "source": [
    "### 6.0 Stores with more consecutive promotions should sell more (FALSE)"
   ]
  },
  {
   "cell_type": "code",
   "execution_count": null,
   "id": "042683a6",
   "metadata": {
    "ExecuteTime": {
     "end_time": "2024-11-05T17:28:46.688303Z",
     "start_time": "2024-11-05T17:28:46.635223Z"
    },
    "hidden": true
   },
   "outputs": [],
   "source": [
    "df4[['promo', 'promo2', 'sales']].groupby(['promo', 'promo2']).sum().reset_index()"
   ]
  },
  {
   "cell_type": "code",
   "execution_count": null,
   "id": "7009a2ca",
   "metadata": {
    "ExecuteTime": {
     "end_time": "2024-11-05T17:42:53.921326Z",
     "start_time": "2024-11-05T17:42:53.716522Z"
    },
    "hidden": true
   },
   "outputs": [],
   "source": [
    "aux1 = df4[(df4['promo'] == 1) & (df4['promo2'] == 1)][['year_week', 'sales']].groupby('year_week').sum().reset_index()\n",
    "ax = aux1.plot()\n",
    "\n",
    "aux1 = df4[(df4['promo'] == 1) & (df4['promo2'] == 0)][['year_week', 'sales']].groupby('year_week').sum().reset_index()\n",
    "aux1.plot(ax=ax)\n",
    "\n",
    "ax.legend(labels=['traditional & extended', 'extended']);\n"
   ]
  },
  {
   "cell_type": "markdown",
   "id": "70d28e23",
   "metadata": {
    "hidden": true
   },
   "source": [
    "### 7.0 Stores open during the Christmas holiday should sell more (FALSE)"
   ]
  },
  {
   "cell_type": "code",
   "execution_count": null,
   "id": "81e04909",
   "metadata": {
    "ExecuteTime": {
     "end_time": "2024-11-05T17:52:01.288579Z",
     "start_time": "2024-11-05T17:52:00.941604Z"
    },
    "hidden": true
   },
   "outputs": [],
   "source": [
    "aux = df4[df4['state_holiday'] != 'regular_day']\n",
    "\n",
    "plt.subplot(1, 2, 1)\n",
    "aux1 = aux[['state_holiday', 'sales']].groupby('state_holiday').sum().reset_index()\n",
    "sns.barplot(x='state_holiday', y='sales', data=aux1)\n",
    "\n",
    "plt.subplot(1, 2, 2)\n",
    "aux2 = aux[['year', 'state_holiday', 'sales']].groupby(['year', 'state_holiday']).sum().reset_index()\n",
    "sns.barplot(x='year', y='sales', hue='state_holiday', data=aux2);"
   ]
  },
  {
   "cell_type": "markdown",
   "id": "f15c6280",
   "metadata": {
    "hidden": true
   },
   "source": [
    "### 8.0 Stores should sell more over the years (FALSE)"
   ]
  },
  {
   "cell_type": "code",
   "execution_count": null,
   "id": "e053ffd9",
   "metadata": {
    "ExecuteTime": {
     "end_time": "2024-11-05T17:57:08.727844Z",
     "start_time": "2024-11-05T17:57:08.431360Z"
    },
    "hidden": true
   },
   "outputs": [],
   "source": [
    "aux = df4[['year', 'sales']].groupby('year').sum().reset_index()\n",
    "\n",
    "plt.subplot(1, 3, 1)\n",
    "sns.barplot(x='year', y='sales', data=aux)\n",
    "\n",
    "plt.subplot(1, 3, 2)\n",
    "sns.regplot(x='year', y='sales', data=aux)\n",
    "\n",
    "plt.subplot(1, 3, 3)\n",
    "sns.heatmap(aux.corr(method='pearson'), annot=True)"
   ]
  },
  {
   "cell_type": "markdown",
   "id": "b3d9983d",
   "metadata": {
    "hidden": true
   },
   "source": [
    "### 9.0 Stores should sell more in the second half of the year (FALSE)"
   ]
  },
  {
   "cell_type": "code",
   "execution_count": null,
   "id": "33a26823",
   "metadata": {
    "ExecuteTime": {
     "end_time": "2024-11-05T18:00:40.284491Z",
     "start_time": "2024-11-05T18:00:39.976010Z"
    },
    "hidden": true
   },
   "outputs": [],
   "source": [
    "aux = df4[['month', 'sales']].groupby('month').sum().reset_index()\n",
    "\n",
    "plt.subplot(1, 3, 1)\n",
    "sns.barplot(x='month', y='sales', data=aux);\n",
    "\n",
    "plt.subplot(1, 3, 2)\n",
    "sns.regplot(x='month', y='sales', data=aux);\n",
    "\n",
    "plt.subplot(1, 3, 3)\n",
    "sns.heatmap(aux.corr(method='pearson'), annot=True);"
   ]
  },
  {
   "cell_type": "markdown",
   "id": "11b7e380",
   "metadata": {
    "ExecuteTime": {
     "end_time": "2024-11-05T18:01:17.988350Z",
     "start_time": "2024-11-05T18:01:17.985217Z"
    },
    "hidden": true
   },
   "source": [
    "### 10.0 Stores should sell more after the 10th of each month (TRUE)"
   ]
  },
  {
   "cell_type": "code",
   "execution_count": null,
   "id": "89dd0ad2",
   "metadata": {
    "ExecuteTime": {
     "end_time": "2024-11-05T18:09:58.165029Z",
     "start_time": "2024-11-05T18:09:57.767851Z"
    },
    "hidden": true
   },
   "outputs": [],
   "source": [
    "aux = df4[['day', 'sales']].groupby('day').sum().reset_index()\n",
    "\n",
    "plt.subplot(2, 2, 1)\n",
    "sns.barplot(x='day', y='sales', data=aux);\n",
    "\n",
    "plt.subplot(2, 2, 2)\n",
    "sns.regplot(x='day', y='sales', data=aux);\n",
    "\n",
    "plt.subplot(2, 2, 3)\n",
    "sns.heatmap(aux.corr(method='pearson'), annot=True);\n",
    "\n",
    "aux['before_after'] = aux['day'].apply(lambda x: 'before_10th' if x <= 10 else 'after_10th')\n",
    "aux2 = aux[['before_after', 'sales']].groupby('before_after').sum().reset_index()\n",
    "\n",
    "plt.subplot(2, 2, 4)\n",
    "sns.barplot(x='before_after', y='sales', data=aux2);\n"
   ]
  },
  {
   "cell_type": "markdown",
   "id": "81422db0",
   "metadata": {
    "ExecuteTime": {
     "end_time": "2024-11-05T18:11:05.802319Z",
     "start_time": "2024-11-05T18:11:05.797819Z"
    },
    "hidden": true
   },
   "source": [
    "### 11.0 Stores should sell less on weekends (TRUE)"
   ]
  },
  {
   "cell_type": "code",
   "execution_count": null,
   "id": "3f69c1c9",
   "metadata": {
    "ExecuteTime": {
     "end_time": "2024-11-05T18:13:44.911389Z",
     "start_time": "2024-11-05T18:13:44.612725Z"
    },
    "hidden": true
   },
   "outputs": [],
   "source": [
    "aux = df4[['day_of_week', 'sales']].groupby('day_of_week').sum().reset_index()\n",
    "\n",
    "plt.subplot(1, 3, 1)\n",
    "sns.barplot(x='day_of_week', y='sales', data=aux);\n",
    "\n",
    "plt.subplot(1, 3, 2)\n",
    "sns.regplot(x='day_of_week', y='sales', data=aux);\n",
    "\n",
    "plt.subplot(1, 3, 3)\n",
    "sns.heatmap(aux.corr(method='pearson'), annot=True);"
   ]
  },
  {
   "cell_type": "markdown",
   "id": "2aa57281",
   "metadata": {
    "hidden": true
   },
   "source": [
    "### 12.0 Stores should sell less during school holidays (TRUE)"
   ]
  },
  {
   "cell_type": "code",
   "execution_count": null,
   "id": "c5b74127",
   "metadata": {
    "ExecuteTime": {
     "end_time": "2024-11-05T18:19:21.718476Z",
     "start_time": "2024-11-05T18:19:21.498509Z"
    },
    "hidden": true
   },
   "outputs": [],
   "source": [
    "aux = df4[['school_holiday', 'sales']].groupby('school_holiday').sum().reset_index()\n",
    "\n",
    "plt.subplot(2, 1, 1)\n",
    "sns.barplot(x='school_holiday', y='sales', data=aux);\n",
    "\n",
    "plt.subplot(2, 1, 2)\n",
    "aux1 = df4[['month', 'school_holiday', 'sales']].groupby(['month', 'school_holiday']).sum().reset_index()\n",
    "sns.barplot(x='month', y='sales', hue='school_holiday', data=aux1);"
   ]
  },
  {
   "cell_type": "markdown",
   "id": "5389582d",
   "metadata": {
    "hidden": true
   },
   "source": [
    "### 4.2.1 summary of hypotheses"
   ]
  },
  {
   "cell_type": "code",
   "execution_count": null,
   "id": "7571897d",
   "metadata": {
    "ExecuteTime": {
     "end_time": "2024-11-05T18:23:32.241856Z",
     "start_time": "2024-11-05T18:23:32.235765Z"
    },
    "hidden": true
   },
   "outputs": [],
   "source": [
    "from tabulate import tabulate\n",
    "tab = [['Hypotheses', 'Conclusion', 'Relevance'],\n",
    "       ['H1', 'False', 'Low'],  \n",
    "       ['H2', 'False', 'Medium'],  \n",
    "       ['H3', 'False', 'Medium'],\n",
    "       ['H4', 'False', 'Low'],\n",
    "       ['H5', '-', '-'],\n",
    "       ['H7', 'False', 'Low'],\n",
    "       ['H8', 'False', 'Medium'],\n",
    "       ['H9', 'False', 'High'],\n",
    "       ['H10', 'False', 'High'],\n",
    "       ['H11', 'True', 'High'],\n",
    "       ['H12', 'True', 'High'],\n",
    "       ['H13', 'True', 'Low'],\n",
    "]\n",
    "\n",
    "print( tabulate( tab, headers='firstrow' ) )"
   ]
  },
  {
   "cell_type": "markdown",
   "id": "5a83434a",
   "metadata": {
    "ExecuteTime": {
     "end_time": "2024-11-04T21:57:14.772324Z",
     "start_time": "2024-11-04T21:57:14.768678Z"
    },
    "hidden": true
   },
   "source": [
    "## 4.3 multi"
   ]
  },
  {
   "cell_type": "markdown",
   "id": "b9c12cfd",
   "metadata": {
    "heading_collapsed": true,
    "hidden": true
   },
   "source": [
    "### 4.3.1 numerical attributes"
   ]
  },
  {
   "cell_type": "code",
   "execution_count": null,
   "id": "d095b92a",
   "metadata": {
    "ExecuteTime": {
     "end_time": "2024-11-05T18:53:07.238320Z",
     "start_time": "2024-11-05T18:53:06.722014Z"
    },
    "hidden": true
   },
   "outputs": [],
   "source": [
    "correlation = num_attributes.corr(method='pearson')\n",
    "sns.heatmap(correlation, annot=True);"
   ]
  },
  {
   "cell_type": "markdown",
   "id": "f849b77d",
   "metadata": {
    "heading_collapsed": true,
    "hidden": true
   },
   "source": [
    "### 4.3.2 categorical attributes"
   ]
  },
  {
   "cell_type": "code",
   "execution_count": null,
   "id": "706e4414",
   "metadata": {
    "ExecuteTime": {
     "end_time": "2024-11-05T18:56:59.241697Z",
     "start_time": "2024-11-05T18:56:58.615007Z"
    },
    "hidden": true
   },
   "outputs": [],
   "source": [
    "# only categorical data\n",
    "a = df4.select_dtypes( include='object' )\n",
    "\n",
    "# calculate cramer V\n",
    "a1 = cramer_v( a['state_holiday'], a['state_holiday'] )\n",
    "a2 = cramer_v( a['state_holiday'], a['store_type'] )\n",
    "a3 = cramer_v( a['state_holiday'], a['assortment'] )\n",
    "\n",
    "a4 = cramer_v( a['store_type'], a['state_holiday'] )\n",
    "a5 = cramer_v( a['store_type'], a['store_type'] )\n",
    "a6 = cramer_v( a['store_type'], a['assortment'] )\n",
    "\n",
    "a7 = cramer_v( a['assortment'], a['state_holiday'] )\n",
    "a8 = cramer_v( a['assortment'], a['store_type'] )\n",
    "a9 = cramer_v( a['assortment'], a['assortment'] )\n",
    "\n",
    "# final dataset\n",
    "d = pd.DataFrame( {'state_holiday': [a1, a2, a3], \n",
    "               'store_type': [a4, a5, a6],\n",
    "               'assortment': [a7, a8, a9]  })\n",
    "d = d.set_index( d.columns )\n",
    "\n",
    "sns.heatmap( d, annot=True );"
   ]
  },
  {
   "cell_type": "markdown",
   "id": "da0c6cdf",
   "metadata": {
    "heading_collapsed": true
   },
   "source": [
    "# 5.0 data preparation"
   ]
  },
  {
   "cell_type": "code",
   "execution_count": 84,
   "id": "cd015df2",
   "metadata": {
    "ExecuteTime": {
     "end_time": "2024-11-14T22:52:47.647235Z",
     "start_time": "2024-11-14T22:52:47.588817Z"
    },
    "hidden": true
   },
   "outputs": [],
   "source": [
    "df5 = df4.copy()"
   ]
  },
  {
   "cell_type": "markdown",
   "id": "6425e0a5",
   "metadata": {
    "hidden": true
   },
   "source": [
    "## 5.1 rescaling"
   ]
  },
  {
   "cell_type": "code",
   "execution_count": 85,
   "id": "c341623d",
   "metadata": {
    "ExecuteTime": {
     "end_time": "2024-11-14T22:52:48.554590Z",
     "start_time": "2024-11-14T22:52:48.468958Z"
    },
    "hidden": true
   },
   "outputs": [],
   "source": [
    "rs = RobustScaler()\n",
    "mms = MinMaxScaler()\n",
    "\n",
    "#competition_distance\n",
    "df5['competition_distance'] = rs.fit_transform(df5[['competition_distance']].values)\n",
    "pickle.dump(rs, open('../parameter/competition_distance_scaler.pkl', 'wb'))\n",
    "\n",
    "# competition_time_month\n",
    "df5['competition_time_month'] = rs.fit_transform(df5[['competition_time_month']].values)\n",
    "pickle.dump(rs, open('../parameter/competition_time_month_scaler.pkl', 'wb'))\n",
    "\n",
    "# promo time week\n",
    "df5['promo_time_week'] = mms.fit_transform(df5[['promo_time_week']].values)\n",
    "pickle.dump(mms, open('../parameter/promo_time_week_scaler.pkl', 'wb'))\n",
    "\n",
    "# year\n",
    "df5['year'] = mms.fit_transform(df5[['year']].values)\n",
    "pickle.dump( mms, open('../parameter/year_scaler.pkl', 'wb') )"
   ]
  },
  {
   "cell_type": "markdown",
   "id": "96f79d07",
   "metadata": {
    "hidden": true
   },
   "source": [
    "## 5.2 transformation"
   ]
  },
  {
   "cell_type": "markdown",
   "id": "99d1a36f",
   "metadata": {
    "hidden": true
   },
   "source": [
    "### 5.2.1 enconding"
   ]
  },
  {
   "cell_type": "code",
   "execution_count": 83,
   "id": "2f2d6518",
   "metadata": {
    "ExecuteTime": {
     "end_time": "2024-11-14T22:40:30.255248Z",
     "start_time": "2024-11-14T22:40:30.062346Z"
    },
    "hidden": true
   },
   "outputs": [],
   "source": [
    "#state holiday - one hot encoding\n",
    "df5 = pd.get_dummies(df5, prefix=['state_holiday'], columns=['state_holiday'], dtype=int)\n",
    "\n",
    "#store type - label encoding\n",
    "le = LabelEncoder()\n",
    "df5['store_type'] = le.fit_transform(df5['store_type'])\n",
    "pickle.dump(le, open('../parameter/store_type_scaler.pkl', 'wb'))\n",
    "\n",
    "#assortment\n",
    "assortment_dict = {'basic': 1, 'extra':2, 'extended': 3}\n",
    "df5['assortment'] = df5['assortment'].map(assortment_dict)"
   ]
  },
  {
   "cell_type": "markdown",
   "id": "4d212fde",
   "metadata": {
    "hidden": true
   },
   "source": [
    "### 5.2.2 response variable transformation"
   ]
  },
  {
   "cell_type": "code",
   "execution_count": 23,
   "id": "98097521",
   "metadata": {
    "ExecuteTime": {
     "end_time": "2024-11-14T20:04:30.643252Z",
     "start_time": "2024-11-14T20:04:30.623246Z"
    },
    "hidden": true
   },
   "outputs": [],
   "source": [
    "df5['sales'] = np.log1p(df5['sales'])"
   ]
  },
  {
   "cell_type": "markdown",
   "id": "f9884687",
   "metadata": {
    "hidden": true
   },
   "source": [
    "### 5.2.3 nature transformation"
   ]
  },
  {
   "cell_type": "code",
   "execution_count": 24,
   "id": "fa8d6985",
   "metadata": {
    "ExecuteTime": {
     "end_time": "2024-11-14T20:04:32.876519Z",
     "start_time": "2024-11-14T20:04:32.816221Z"
    },
    "hidden": true
   },
   "outputs": [],
   "source": [
    "time_columns = ['day_of_week', 'month', 'day', 'week_of_year']\n",
    "periods = [7, 12, 30, 52]\n",
    "\n",
    "for col, period in zip(time_columns, periods):\n",
    "    df5[f'{col}_sin'] = np.sin(df5[col] * (2. * np.pi / period))\n",
    "    df5[f'{col}_cos'] = np.cos(df5[col] * (2. * np.pi / period))"
   ]
  },
  {
   "cell_type": "markdown",
   "id": "5469fee9",
   "metadata": {
    "heading_collapsed": true
   },
   "source": [
    "# 6.0 feature selection"
   ]
  },
  {
   "cell_type": "code",
   "execution_count": 25,
   "id": "d1d0786c",
   "metadata": {
    "ExecuteTime": {
     "end_time": "2024-11-14T20:04:34.592203Z",
     "start_time": "2024-11-14T20:04:34.509620Z"
    },
    "hidden": true
   },
   "outputs": [],
   "source": [
    "df6 = df5.copy()"
   ]
  },
  {
   "cell_type": "markdown",
   "id": "61994dca",
   "metadata": {
    "hidden": true
   },
   "source": [
    "## 6.1 split dataframe into train and test"
   ]
  },
  {
   "cell_type": "code",
   "execution_count": 26,
   "id": "98eb54f5",
   "metadata": {
    "ExecuteTime": {
     "end_time": "2024-11-14T20:04:35.832014Z",
     "start_time": "2024-11-14T20:04:35.778973Z"
    },
    "hidden": true
   },
   "outputs": [],
   "source": [
    "cols_drop = ['week_of_year', 'day', 'month', 'competition_since', 'day_of_week', 'promo_since', 'year_week' ]\n",
    "df6 = df6.drop(cols_drop, axis=1)"
   ]
  },
  {
   "cell_type": "code",
   "execution_count": 27,
   "id": "9bc5da06",
   "metadata": {
    "ExecuteTime": {
     "end_time": "2024-11-14T20:04:36.939530Z",
     "start_time": "2024-11-14T20:04:36.907275Z"
    },
    "hidden": true,
    "scrolled": true
   },
   "outputs": [
    {
     "data": {
      "text/plain": [
       "Timestamp('2015-06-19 00:00:00')"
      ]
     },
     "execution_count": 27,
     "metadata": {},
     "output_type": "execute_result"
    }
   ],
   "source": [
    "df6[['store', 'date']].groupby('store').max().reset_index()['date'][0] - datetime.timedelta(days=6*7)"
   ]
  },
  {
   "cell_type": "code",
   "execution_count": 28,
   "id": "a33a02ef",
   "metadata": {
    "ExecuteTime": {
     "end_time": "2024-11-14T20:04:37.895879Z",
     "start_time": "2024-11-14T20:04:37.842112Z"
    },
    "hidden": true
   },
   "outputs": [],
   "source": [
    "#train dataset\n",
    "X_train = df6[df6['date'] < '2015-06-19']\n",
    "y_train = X_train['sales']\n",
    "\n",
    "#test dataset\n",
    "X_test = df6[df6['date'] >= '2015-06-19']\n",
    "y_test = X_test['sales']"
   ]
  },
  {
   "cell_type": "markdown",
   "id": "a1f726bf",
   "metadata": {
    "ExecuteTime": {
     "end_time": "2024-11-06T22:21:15.044530Z",
     "start_time": "2024-11-06T22:21:15.037775Z"
    },
    "heading_collapsed": true,
    "hidden": true
   },
   "source": [
    "## 6.2 borutas as feature selector"
   ]
  },
  {
   "cell_type": "code",
   "execution_count": null,
   "id": "12ba505a",
   "metadata": {
    "ExecuteTime": {
     "end_time": "2024-11-06T22:47:06.276152Z",
     "start_time": "2024-11-06T22:41:35.273810Z"
    },
    "hidden": true
   },
   "outputs": [],
   "source": [
    "# # train and test dataset for boruta\n",
    "# X_train_n = X_train.drop(['date', 'sales'], axis=1).values\n",
    "# y_train_n = y_train.values.ravel()\n",
    "\n",
    "# #define RandomForestRegressor\n",
    "# rf = RandomForestRegressor(n_jobs=-1)\n",
    "\n",
    "# #define boruta\n",
    "# boruta = BorutaPy(rf, n_estimators='auto', verbose=2, random_state=42).fit(X_train_n, y_train_n)"
   ]
  },
  {
   "cell_type": "markdown",
   "id": "cb0f6f08",
   "metadata": {
    "heading_collapsed": true,
    "hidden": true
   },
   "source": [
    "### 6.2.1 best features from boruta"
   ]
  },
  {
   "cell_type": "code",
   "execution_count": null,
   "id": "482ab222",
   "metadata": {
    "ExecuteTime": {
     "end_time": "2024-11-06T22:47:22.882954Z",
     "start_time": "2024-11-06T22:47:22.811376Z"
    },
    "hidden": true
   },
   "outputs": [],
   "source": [
    "# cols_selected = boruta.support_.tolist()\n",
    "\n",
    "# #best features\n",
    "# X_train_fs = X_train.drop( ['date', 'sales'], axis=1)\n",
    "# cols_selected_boruta = X_train_fs.iloc[:, cols_selected].columns.to_list()\n",
    "\n",
    "# #not selected boruta\n",
    "# cols_not_selected_boruta = list( np.setdiff1d( X_train_fs.columns, cols_selected_boruta))"
   ]
  },
  {
   "cell_type": "markdown",
   "id": "583b80cb",
   "metadata": {
    "hidden": true
   },
   "source": [
    "## 6.3 manual feature selection"
   ]
  },
  {
   "cell_type": "code",
   "execution_count": 29,
   "id": "5a7b2af5",
   "metadata": {
    "ExecuteTime": {
     "end_time": "2024-11-14T20:04:47.525757Z",
     "start_time": "2024-11-14T20:04:47.522180Z"
    },
    "hidden": true
   },
   "outputs": [],
   "source": [
    "cols_selected_boruta = [\n",
    "    'store',\n",
    "    'promo',\n",
    "    'store_type',\n",
    "    'assortment',\n",
    "    'competition_distance',\n",
    "    'competition_open_since_month',\n",
    "    'competition_open_since_year',\n",
    "    'promo2',\n",
    "    'promo2_since_week',\n",
    "    'promo2_since_year',\n",
    "    'competition_time_month',\n",
    "    'promo_time_week',\n",
    "    'day_of_week_sin',\n",
    "    'day_of_week_cos',\n",
    "    'month_sin',\n",
    "    'month_cos',\n",
    "    'day_sin',\n",
    "    'day_cos',\n",
    "    'week_of_year_sin',\n",
    "    'week_of_year_cos']\n",
    "\n",
    "# columns to add\n",
    "feat_to_add = ['date', 'sales']\n",
    "\n",
    "cols_selected_boruta_full = cols_selected_boruta.copy()\n",
    "cols_selected_boruta_full.extend(feat_to_add)"
   ]
  },
  {
   "cell_type": "markdown",
   "id": "6b7a005c",
   "metadata": {
    "heading_collapsed": true
   },
   "source": [
    "# 7.0 machine learning modeling"
   ]
  },
  {
   "cell_type": "markdown",
   "id": "af9d2b2c",
   "metadata": {
    "hidden": true
   },
   "source": [
    "## 7.0.1  split train and test"
   ]
  },
  {
   "cell_type": "code",
   "execution_count": 30,
   "id": "9bc2703f",
   "metadata": {
    "ExecuteTime": {
     "end_time": "2024-11-14T20:04:52.205369Z",
     "start_time": "2024-11-14T20:04:52.139222Z"
    },
    "hidden": true
   },
   "outputs": [],
   "source": [
    "x_train = X_train[cols_selected_boruta]\n",
    "x_test = X_test[cols_selected_boruta]\n",
    "\n",
    "x_training = X_train[cols_selected_boruta_full]"
   ]
  },
  {
   "cell_type": "markdown",
   "id": "80a8184f",
   "metadata": {
    "heading_collapsed": true,
    "hidden": true
   },
   "source": [
    "## 7.1 average model"
   ]
  },
  {
   "cell_type": "code",
   "execution_count": 36,
   "id": "24eeabd1",
   "metadata": {
    "ExecuteTime": {
     "end_time": "2024-11-07T18:30:04.201044Z",
     "start_time": "2024-11-07T18:30:04.171241Z"
    },
    "hidden": true
   },
   "outputs": [
    {
     "data": {
      "text/html": [
       "<div>\n",
       "<style scoped>\n",
       "    .dataframe tbody tr th:only-of-type {\n",
       "        vertical-align: middle;\n",
       "    }\n",
       "\n",
       "    .dataframe tbody tr th {\n",
       "        vertical-align: top;\n",
       "    }\n",
       "\n",
       "    .dataframe thead th {\n",
       "        text-align: right;\n",
       "    }\n",
       "</style>\n",
       "<table border=\"1\" class=\"dataframe\">\n",
       "  <thead>\n",
       "    <tr style=\"text-align: right;\">\n",
       "      <th></th>\n",
       "      <th>Model Name</th>\n",
       "      <th>MAE</th>\n",
       "      <th>MAPE</th>\n",
       "      <th>RMSE</th>\n",
       "    </tr>\n",
       "  </thead>\n",
       "  <tbody>\n",
       "    <tr>\n",
       "      <th>0</th>\n",
       "      <td>Average Model</td>\n",
       "      <td>1354.800353</td>\n",
       "      <td>0.2064</td>\n",
       "      <td>1835.135542</td>\n",
       "    </tr>\n",
       "  </tbody>\n",
       "</table>\n",
       "</div>"
      ],
      "text/plain": [
       "      Model Name          MAE    MAPE         RMSE\n",
       "0  Average Model  1354.800353  0.2064  1835.135542"
      ]
     },
     "execution_count": 36,
     "metadata": {},
     "output_type": "execute_result"
    }
   ],
   "source": [
    "aux1 = x_test.copy()\n",
    "aux1['sales'] = y_test.copy()\n",
    "\n",
    "#prediction\n",
    "aux2 = aux1[['store', 'sales']].groupby('store').mean().reset_index().rename(columns={'sales': 'predictions'})\n",
    "aux1 = pd.merge(aux1, aux2, how='left', on='store')\n",
    "yhat_baseline = aux1['predictions']\n",
    "\n",
    "#performance\n",
    "baseline_result = ml_error('Average Model', np.expm1(y_test), np.expm1(yhat_baseline))\n",
    "baseline_result"
   ]
  },
  {
   "cell_type": "markdown",
   "id": "6fb9c91a",
   "metadata": {
    "heading_collapsed": true,
    "hidden": true
   },
   "source": [
    "## 7.2 linear regression"
   ]
  },
  {
   "cell_type": "code",
   "execution_count": 41,
   "id": "ebe0419d",
   "metadata": {
    "ExecuteTime": {
     "end_time": "2024-11-07T18:38:30.305855Z",
     "start_time": "2024-11-07T18:38:30.108039Z"
    },
    "hidden": true
   },
   "outputs": [
    {
     "data": {
      "text/html": [
       "<div>\n",
       "<style scoped>\n",
       "    .dataframe tbody tr th:only-of-type {\n",
       "        vertical-align: middle;\n",
       "    }\n",
       "\n",
       "    .dataframe tbody tr th {\n",
       "        vertical-align: top;\n",
       "    }\n",
       "\n",
       "    .dataframe thead th {\n",
       "        text-align: right;\n",
       "    }\n",
       "</style>\n",
       "<table border=\"1\" class=\"dataframe\">\n",
       "  <thead>\n",
       "    <tr style=\"text-align: right;\">\n",
       "      <th></th>\n",
       "      <th>Model Name</th>\n",
       "      <th>MAE</th>\n",
       "      <th>MAPE</th>\n",
       "      <th>RMSE</th>\n",
       "    </tr>\n",
       "  </thead>\n",
       "  <tbody>\n",
       "    <tr>\n",
       "      <th>0</th>\n",
       "      <td>Linear Regression</td>\n",
       "      <td>1867.089774</td>\n",
       "      <td>0.292694</td>\n",
       "      <td>2671.049215</td>\n",
       "    </tr>\n",
       "  </tbody>\n",
       "</table>\n",
       "</div>"
      ],
      "text/plain": [
       "          Model Name          MAE      MAPE         RMSE\n",
       "0  Linear Regression  1867.089774  0.292694  2671.049215"
      ]
     },
     "execution_count": 41,
     "metadata": {},
     "output_type": "execute_result"
    }
   ],
   "source": [
    "#model\n",
    "lr = LinearRegression().fit(x_train, y_train)\n",
    "\n",
    "#prediction\n",
    "yhat_lr = lr.predict(x_test)\n",
    "\n",
    "#performance\n",
    "lr_result = ml_error('Linear Regression', np.expm1(y_test), np.expm1(yhat_lr))\n",
    "lr_result"
   ]
  },
  {
   "cell_type": "markdown",
   "id": "2de97be9",
   "metadata": {
    "ExecuteTime": {
     "end_time": "2024-11-07T19:37:09.034596Z",
     "start_time": "2024-11-07T19:37:09.031226Z"
    },
    "heading_collapsed": true,
    "hidden": true
   },
   "source": [
    "### 7.2.1 cross validation"
   ]
  },
  {
   "cell_type": "code",
   "execution_count": 60,
   "id": "839f6ea1",
   "metadata": {
    "ExecuteTime": {
     "end_time": "2024-11-07T19:38:38.182553Z",
     "start_time": "2024-11-07T19:38:36.886065Z"
    },
    "hidden": true
   },
   "outputs": [
    {
     "data": {
      "text/html": [
       "<div>\n",
       "<style scoped>\n",
       "    .dataframe tbody tr th:only-of-type {\n",
       "        vertical-align: middle;\n",
       "    }\n",
       "\n",
       "    .dataframe tbody tr th {\n",
       "        vertical-align: top;\n",
       "    }\n",
       "\n",
       "    .dataframe thead th {\n",
       "        text-align: right;\n",
       "    }\n",
       "</style>\n",
       "<table border=\"1\" class=\"dataframe\">\n",
       "  <thead>\n",
       "    <tr style=\"text-align: right;\">\n",
       "      <th></th>\n",
       "      <th>Model Name</th>\n",
       "      <th>MAE CV</th>\n",
       "      <th>MAPE CV</th>\n",
       "      <th>RMSE CV</th>\n",
       "    </tr>\n",
       "  </thead>\n",
       "  <tbody>\n",
       "    <tr>\n",
       "      <th>0</th>\n",
       "      <td>Linear Regression</td>\n",
       "      <td>2081.73 +/- 295.63</td>\n",
       "      <td>0.3 +/- 0.02</td>\n",
       "      <td>2952.52 +/- 468.37</td>\n",
       "    </tr>\n",
       "  </tbody>\n",
       "</table>\n",
       "</div>"
      ],
      "text/plain": [
       "          Model Name              MAE CV       MAPE CV             RMSE CV\n",
       "0  Linear Regression  2081.73 +/- 295.63  0.3 +/- 0.02  2952.52 +/- 468.37"
      ]
     },
     "execution_count": 60,
     "metadata": {},
     "output_type": "execute_result"
    }
   ],
   "source": [
    "lr_result_cv = cross_validation(x_training, 5, 'Linear Regression', lr, verbose=False)\n",
    "lr_result_cv"
   ]
  },
  {
   "cell_type": "markdown",
   "id": "2c28f494",
   "metadata": {
    "heading_collapsed": true,
    "hidden": true
   },
   "source": [
    "## 7.3 linear regression regularized"
   ]
  },
  {
   "cell_type": "code",
   "execution_count": 46,
   "id": "88f978df",
   "metadata": {
    "ExecuteTime": {
     "end_time": "2024-11-07T18:42:30.867035Z",
     "start_time": "2024-11-07T18:42:15.910534Z"
    },
    "hidden": true
   },
   "outputs": [
    {
     "data": {
      "text/html": [
       "<div>\n",
       "<style scoped>\n",
       "    .dataframe tbody tr th:only-of-type {\n",
       "        vertical-align: middle;\n",
       "    }\n",
       "\n",
       "    .dataframe tbody tr th {\n",
       "        vertical-align: top;\n",
       "    }\n",
       "\n",
       "    .dataframe thead th {\n",
       "        text-align: right;\n",
       "    }\n",
       "</style>\n",
       "<table border=\"1\" class=\"dataframe\">\n",
       "  <thead>\n",
       "    <tr style=\"text-align: right;\">\n",
       "      <th></th>\n",
       "      <th>Model Name</th>\n",
       "      <th>MAE</th>\n",
       "      <th>MAPE</th>\n",
       "      <th>RMSE</th>\n",
       "    </tr>\n",
       "  </thead>\n",
       "  <tbody>\n",
       "    <tr>\n",
       "      <th>0</th>\n",
       "      <td>Linear Regression - Lasso</td>\n",
       "      <td>1869.571858</td>\n",
       "      <td>0.288111</td>\n",
       "      <td>2694.005137</td>\n",
       "    </tr>\n",
       "  </tbody>\n",
       "</table>\n",
       "</div>"
      ],
      "text/plain": [
       "                  Model Name          MAE      MAPE         RMSE\n",
       "0  Linear Regression - Lasso  1869.571858  0.288111  2694.005137"
      ]
     },
     "execution_count": 46,
     "metadata": {},
     "output_type": "execute_result"
    }
   ],
   "source": [
    "#model\n",
    "lrr = Lasso(alpha=0.001).fit(x_train, y_train)\n",
    "\n",
    "#prediction\n",
    "yhat_lrr = lrr.predict(x_test)\n",
    "\n",
    "#performance\n",
    "lrr_result = ml_error('Linear Regression - Lasso', np.expm1(y_test), np.expm1(yhat_lrr))\n",
    "lrr_result"
   ]
  },
  {
   "cell_type": "markdown",
   "id": "3731830a",
   "metadata": {
    "hidden": true
   },
   "source": [
    "### 7.3.1 cross validation"
   ]
  },
  {
   "cell_type": "code",
   "execution_count": 61,
   "id": "c54e2a5c",
   "metadata": {
    "ExecuteTime": {
     "end_time": "2024-11-07T19:41:42.680742Z",
     "start_time": "2024-11-07T19:40:33.663432Z"
    },
    "hidden": true
   },
   "outputs": [
    {
     "data": {
      "text/html": [
       "<div>\n",
       "<style scoped>\n",
       "    .dataframe tbody tr th:only-of-type {\n",
       "        vertical-align: middle;\n",
       "    }\n",
       "\n",
       "    .dataframe tbody tr th {\n",
       "        vertical-align: top;\n",
       "    }\n",
       "\n",
       "    .dataframe thead th {\n",
       "        text-align: right;\n",
       "    }\n",
       "</style>\n",
       "<table border=\"1\" class=\"dataframe\">\n",
       "  <thead>\n",
       "    <tr style=\"text-align: right;\">\n",
       "      <th></th>\n",
       "      <th>Model Name</th>\n",
       "      <th>MAE CV</th>\n",
       "      <th>MAPE CV</th>\n",
       "      <th>RMSE CV</th>\n",
       "    </tr>\n",
       "  </thead>\n",
       "  <tbody>\n",
       "    <tr>\n",
       "      <th>0</th>\n",
       "      <td>Linear Regression - Lasso</td>\n",
       "      <td>2088.88 +/- 327.01</td>\n",
       "      <td>0.3 +/- 0.01</td>\n",
       "      <td>2988.6 +/- 499.57</td>\n",
       "    </tr>\n",
       "  </tbody>\n",
       "</table>\n",
       "</div>"
      ],
      "text/plain": [
       "                  Model Name              MAE CV       MAPE CV  \\\n",
       "0  Linear Regression - Lasso  2088.88 +/- 327.01  0.3 +/- 0.01   \n",
       "\n",
       "             RMSE CV  \n",
       "0  2988.6 +/- 499.57  "
      ]
     },
     "execution_count": 61,
     "metadata": {},
     "output_type": "execute_result"
    }
   ],
   "source": [
    "lrr_result_cv = cross_validation(x_training, 5, 'Linear Regression - Lasso', lrr, verbose=False)\n",
    "lrr_result_cv"
   ]
  },
  {
   "cell_type": "markdown",
   "id": "7b57ce60",
   "metadata": {
    "heading_collapsed": true,
    "hidden": true
   },
   "source": [
    "## 7.4 random forest regressor"
   ]
  },
  {
   "cell_type": "code",
   "execution_count": 54,
   "id": "1e9be81d",
   "metadata": {
    "ExecuteTime": {
     "end_time": "2024-11-07T19:11:18.141457Z",
     "start_time": "2024-11-07T19:01:32.205247Z"
    },
    "hidden": true
   },
   "outputs": [
    {
     "data": {
      "text/html": [
       "<div>\n",
       "<style scoped>\n",
       "    .dataframe tbody tr th:only-of-type {\n",
       "        vertical-align: middle;\n",
       "    }\n",
       "\n",
       "    .dataframe tbody tr th {\n",
       "        vertical-align: top;\n",
       "    }\n",
       "\n",
       "    .dataframe thead th {\n",
       "        text-align: right;\n",
       "    }\n",
       "</style>\n",
       "<table border=\"1\" class=\"dataframe\">\n",
       "  <thead>\n",
       "    <tr style=\"text-align: right;\">\n",
       "      <th></th>\n",
       "      <th>Model Name</th>\n",
       "      <th>MAE</th>\n",
       "      <th>MAPE</th>\n",
       "      <th>RMSE</th>\n",
       "    </tr>\n",
       "  </thead>\n",
       "  <tbody>\n",
       "    <tr>\n",
       "      <th>0</th>\n",
       "      <td>Random Forest Regressor</td>\n",
       "      <td>678.014263</td>\n",
       "      <td>0.099793</td>\n",
       "      <td>1009.741947</td>\n",
       "    </tr>\n",
       "  </tbody>\n",
       "</table>\n",
       "</div>"
      ],
      "text/plain": [
       "                Model Name         MAE      MAPE         RMSE\n",
       "0  Random Forest Regressor  678.014263  0.099793  1009.741947"
      ]
     },
     "execution_count": 54,
     "metadata": {},
     "output_type": "execute_result"
    }
   ],
   "source": [
    "#model\n",
    "rf = RandomForestRegressor(n_estimators=100, n_jobs=-1, random_state=42).fit(x_train, y_train)\n",
    "\n",
    "#prediction\n",
    "yhat_rf = rf.predict(x_test)\n",
    "\n",
    "#performance\n",
    "rf_result = ml_error('Random Forest Regressor', np.expm1(y_test), np.expm1(yhat_rf))\n",
    "rf_result"
   ]
  },
  {
   "cell_type": "markdown",
   "id": "21040d4d",
   "metadata": {
    "hidden": true
   },
   "source": [
    "### 7.4.1 cross validation"
   ]
  },
  {
   "cell_type": "code",
   "execution_count": 62,
   "id": "c26df60e",
   "metadata": {
    "ExecuteTime": {
     "end_time": "2024-11-07T20:25:36.906602Z",
     "start_time": "2024-11-07T19:42:56.018659Z"
    },
    "hidden": true
   },
   "outputs": [
    {
     "data": {
      "text/html": [
       "<div>\n",
       "<style scoped>\n",
       "    .dataframe tbody tr th:only-of-type {\n",
       "        vertical-align: middle;\n",
       "    }\n",
       "\n",
       "    .dataframe tbody tr th {\n",
       "        vertical-align: top;\n",
       "    }\n",
       "\n",
       "    .dataframe thead th {\n",
       "        text-align: right;\n",
       "    }\n",
       "</style>\n",
       "<table border=\"1\" class=\"dataframe\">\n",
       "  <thead>\n",
       "    <tr style=\"text-align: right;\">\n",
       "      <th></th>\n",
       "      <th>Model Name</th>\n",
       "      <th>MAE CV</th>\n",
       "      <th>MAPE CV</th>\n",
       "      <th>RMSE CV</th>\n",
       "    </tr>\n",
       "  </thead>\n",
       "  <tbody>\n",
       "    <tr>\n",
       "      <th>0</th>\n",
       "      <td>Random Forest Regressor</td>\n",
       "      <td>832.52 +/- 216.54</td>\n",
       "      <td>0.12 +/- 0.02</td>\n",
       "      <td>1249.27 +/- 316.17</td>\n",
       "    </tr>\n",
       "  </tbody>\n",
       "</table>\n",
       "</div>"
      ],
      "text/plain": [
       "                Model Name             MAE CV        MAPE CV  \\\n",
       "0  Random Forest Regressor  832.52 +/- 216.54  0.12 +/- 0.02   \n",
       "\n",
       "              RMSE CV  \n",
       "0  1249.27 +/- 316.17  "
      ]
     },
     "execution_count": 62,
     "metadata": {},
     "output_type": "execute_result"
    }
   ],
   "source": [
    "rf_result_cv = cross_validation(x_training, 5, 'Random Forest Regressor', rf, verbose=False)\n",
    "rf_result_cv"
   ]
  },
  {
   "cell_type": "markdown",
   "id": "ceb67796",
   "metadata": {
    "heading_collapsed": true,
    "hidden": true
   },
   "source": [
    "## 7.5 xgboost regressor"
   ]
  },
  {
   "cell_type": "code",
   "execution_count": 31,
   "id": "8db16df8",
   "metadata": {
    "ExecuteTime": {
     "end_time": "2024-11-14T20:05:00.123638Z",
     "start_time": "2024-11-14T20:04:59.001521Z"
    },
    "hidden": true
   },
   "outputs": [
    {
     "data": {
      "text/html": [
       "<div>\n",
       "<style scoped>\n",
       "    .dataframe tbody tr th:only-of-type {\n",
       "        vertical-align: middle;\n",
       "    }\n",
       "\n",
       "    .dataframe tbody tr th {\n",
       "        vertical-align: top;\n",
       "    }\n",
       "\n",
       "    .dataframe thead th {\n",
       "        text-align: right;\n",
       "    }\n",
       "</style>\n",
       "<table border=\"1\" class=\"dataframe\">\n",
       "  <thead>\n",
       "    <tr style=\"text-align: right;\">\n",
       "      <th></th>\n",
       "      <th>Model Name</th>\n",
       "      <th>MAE</th>\n",
       "      <th>MAPE</th>\n",
       "      <th>RMSE</th>\n",
       "    </tr>\n",
       "  </thead>\n",
       "  <tbody>\n",
       "    <tr>\n",
       "      <th>0</th>\n",
       "      <td>XGBoost Regressor</td>\n",
       "      <td>860.433707</td>\n",
       "      <td>0.128868</td>\n",
       "      <td>1232.368137</td>\n",
       "    </tr>\n",
       "  </tbody>\n",
       "</table>\n",
       "</div>"
      ],
      "text/plain": [
       "          Model Name         MAE      MAPE         RMSE\n",
       "0  XGBoost Regressor  860.433707  0.128868  1232.368137"
      ]
     },
     "execution_count": 31,
     "metadata": {},
     "output_type": "execute_result"
    }
   ],
   "source": [
    "#model\n",
    "model_xgb = xgb.XGBRegressor().fit(x_train, y_train)\n",
    "\n",
    "#prediction\n",
    "yhat_xgb = model_xgb.predict(x_test)\n",
    "\n",
    "#performance\n",
    "xgb_result = ml_error('XGBoost Regressor', np.expm1(y_test), np.expm1(yhat_xgb))\n",
    "xgb_result"
   ]
  },
  {
   "cell_type": "markdown",
   "id": "ff67a0be",
   "metadata": {
    "heading_collapsed": true,
    "hidden": true
   },
   "source": [
    "### 7.5.1 cross validation"
   ]
  },
  {
   "cell_type": "code",
   "execution_count": 63,
   "id": "a9de9dd2",
   "metadata": {
    "ExecuteTime": {
     "end_time": "2024-11-07T20:25:42.792910Z",
     "start_time": "2024-11-07T20:25:36.933418Z"
    },
    "hidden": true
   },
   "outputs": [
    {
     "name": "stdout",
     "output_type": "stream",
     "text": [
      "\n",
      "KFold Number: 5\n",
      "\n",
      "KFold Number: 4\n",
      "\n",
      "KFold Number: 3\n",
      "\n",
      "KFold Number: 2\n",
      "\n",
      "KFold Number: 1\n"
     ]
    },
    {
     "data": {
      "text/html": [
       "<div>\n",
       "<style scoped>\n",
       "    .dataframe tbody tr th:only-of-type {\n",
       "        vertical-align: middle;\n",
       "    }\n",
       "\n",
       "    .dataframe tbody tr th {\n",
       "        vertical-align: top;\n",
       "    }\n",
       "\n",
       "    .dataframe thead th {\n",
       "        text-align: right;\n",
       "    }\n",
       "</style>\n",
       "<table border=\"1\" class=\"dataframe\">\n",
       "  <thead>\n",
       "    <tr style=\"text-align: right;\">\n",
       "      <th></th>\n",
       "      <th>Model Name</th>\n",
       "      <th>MAE CV</th>\n",
       "      <th>MAPE CV</th>\n",
       "      <th>RMSE CV</th>\n",
       "    </tr>\n",
       "  </thead>\n",
       "  <tbody>\n",
       "    <tr>\n",
       "      <th>0</th>\n",
       "      <td>XGBoost Regressor</td>\n",
       "      <td>1057.93 +/- 145.68</td>\n",
       "      <td>0.15 +/- 0.02</td>\n",
       "      <td>1513.43 +/- 206.0</td>\n",
       "    </tr>\n",
       "  </tbody>\n",
       "</table>\n",
       "</div>"
      ],
      "text/plain": [
       "          Model Name              MAE CV        MAPE CV            RMSE CV\n",
       "0  XGBoost Regressor  1057.93 +/- 145.68  0.15 +/- 0.02  1513.43 +/- 206.0"
      ]
     },
     "execution_count": 63,
     "metadata": {},
     "output_type": "execute_result"
    }
   ],
   "source": [
    "xgb_result_cv = cross_validation(x_training, 5, 'XGBoost Regressor', model_xgb, verbose=True)\n",
    "xgb_result_cv"
   ]
  },
  {
   "cell_type": "markdown",
   "id": "4cd11be2",
   "metadata": {
    "heading_collapsed": true,
    "hidden": true
   },
   "source": [
    "## 7.6 compare model's performance"
   ]
  },
  {
   "cell_type": "markdown",
   "id": "bcb6ae29",
   "metadata": {
    "heading_collapsed": true,
    "hidden": true
   },
   "source": [
    "## 7.6.1 single performance"
   ]
  },
  {
   "cell_type": "code",
   "execution_count": 53,
   "id": "ac367af8",
   "metadata": {
    "ExecuteTime": {
     "end_time": "2024-11-07T18:58:58.555606Z",
     "start_time": "2024-11-07T18:58:58.541888Z"
    },
    "hidden": true
   },
   "outputs": [
    {
     "data": {
      "text/html": [
       "<div>\n",
       "<style scoped>\n",
       "    .dataframe tbody tr th:only-of-type {\n",
       "        vertical-align: middle;\n",
       "    }\n",
       "\n",
       "    .dataframe tbody tr th {\n",
       "        vertical-align: top;\n",
       "    }\n",
       "\n",
       "    .dataframe thead th {\n",
       "        text-align: right;\n",
       "    }\n",
       "</style>\n",
       "<table border=\"1\" class=\"dataframe\">\n",
       "  <thead>\n",
       "    <tr style=\"text-align: right;\">\n",
       "      <th></th>\n",
       "      <th>Model Name</th>\n",
       "      <th>MAE</th>\n",
       "      <th>MAPE</th>\n",
       "      <th>RMSE</th>\n",
       "    </tr>\n",
       "  </thead>\n",
       "  <tbody>\n",
       "    <tr>\n",
       "      <th>0</th>\n",
       "      <td>Random Forest Regressor</td>\n",
       "      <td>678.056420</td>\n",
       "      <td>0.099762</td>\n",
       "      <td>1008.977548</td>\n",
       "    </tr>\n",
       "    <tr>\n",
       "      <th>0</th>\n",
       "      <td>XGBoost Regressor</td>\n",
       "      <td>860.433707</td>\n",
       "      <td>0.128868</td>\n",
       "      <td>1232.368137</td>\n",
       "    </tr>\n",
       "    <tr>\n",
       "      <th>0</th>\n",
       "      <td>Average Model</td>\n",
       "      <td>1354.800353</td>\n",
       "      <td>0.206400</td>\n",
       "      <td>1835.135542</td>\n",
       "    </tr>\n",
       "    <tr>\n",
       "      <th>0</th>\n",
       "      <td>Linear Regression</td>\n",
       "      <td>1867.089774</td>\n",
       "      <td>0.292694</td>\n",
       "      <td>2671.049215</td>\n",
       "    </tr>\n",
       "    <tr>\n",
       "      <th>0</th>\n",
       "      <td>Linear Regression - Lasso</td>\n",
       "      <td>1869.571858</td>\n",
       "      <td>0.288111</td>\n",
       "      <td>2694.005137</td>\n",
       "    </tr>\n",
       "  </tbody>\n",
       "</table>\n",
       "</div>"
      ],
      "text/plain": [
       "                  Model Name          MAE      MAPE         RMSE\n",
       "0    Random Forest Regressor   678.056420  0.099762  1008.977548\n",
       "0          XGBoost Regressor   860.433707  0.128868  1232.368137\n",
       "0              Average Model  1354.800353  0.206400  1835.135542\n",
       "0          Linear Regression  1867.089774  0.292694  2671.049215\n",
       "0  Linear Regression - Lasso  1869.571858  0.288111  2694.005137"
      ]
     },
     "execution_count": 53,
     "metadata": {},
     "output_type": "execute_result"
    }
   ],
   "source": [
    "modelling_result = pd.concat([baseline_result, lr_result, lrr_result, rf_result, xgb_result])\n",
    "modelling_result.sort_values('RMSE')"
   ]
  },
  {
   "cell_type": "markdown",
   "id": "667590cc",
   "metadata": {
    "heading_collapsed": true,
    "hidden": true
   },
   "source": [
    "## 7.6.2 real performance - cross validation"
   ]
  },
  {
   "cell_type": "code",
   "execution_count": 67,
   "id": "b6b3fe06",
   "metadata": {
    "ExecuteTime": {
     "end_time": "2024-11-07T20:27:39.707413Z",
     "start_time": "2024-11-07T20:27:39.696038Z"
    },
    "hidden": true
   },
   "outputs": [
    {
     "data": {
      "text/html": [
       "<div>\n",
       "<style scoped>\n",
       "    .dataframe tbody tr th:only-of-type {\n",
       "        vertical-align: middle;\n",
       "    }\n",
       "\n",
       "    .dataframe tbody tr th {\n",
       "        vertical-align: top;\n",
       "    }\n",
       "\n",
       "    .dataframe thead th {\n",
       "        text-align: right;\n",
       "    }\n",
       "</style>\n",
       "<table border=\"1\" class=\"dataframe\">\n",
       "  <thead>\n",
       "    <tr style=\"text-align: right;\">\n",
       "      <th></th>\n",
       "      <th>Model Name</th>\n",
       "      <th>MAE CV</th>\n",
       "      <th>MAPE CV</th>\n",
       "      <th>RMSE CV</th>\n",
       "    </tr>\n",
       "  </thead>\n",
       "  <tbody>\n",
       "    <tr>\n",
       "      <th>0</th>\n",
       "      <td>Linear Regression</td>\n",
       "      <td>2081.73 +/- 295.63</td>\n",
       "      <td>0.3 +/- 0.02</td>\n",
       "      <td>2952.52 +/- 468.37</td>\n",
       "    </tr>\n",
       "    <tr>\n",
       "      <th>0</th>\n",
       "      <td>Linear Regression - Lasso</td>\n",
       "      <td>2088.88 +/- 327.01</td>\n",
       "      <td>0.3 +/- 0.01</td>\n",
       "      <td>2988.6 +/- 499.57</td>\n",
       "    </tr>\n",
       "    <tr>\n",
       "      <th>0</th>\n",
       "      <td>Random Forest Regressor</td>\n",
       "      <td>832.52 +/- 216.54</td>\n",
       "      <td>0.12 +/- 0.02</td>\n",
       "      <td>1249.27 +/- 316.17</td>\n",
       "    </tr>\n",
       "    <tr>\n",
       "      <th>0</th>\n",
       "      <td>XGBoost Regressor</td>\n",
       "      <td>1057.93 +/- 145.68</td>\n",
       "      <td>0.15 +/- 0.02</td>\n",
       "      <td>1513.43 +/- 206.0</td>\n",
       "    </tr>\n",
       "  </tbody>\n",
       "</table>\n",
       "</div>"
      ],
      "text/plain": [
       "                  Model Name              MAE CV        MAPE CV  \\\n",
       "0          Linear Regression  2081.73 +/- 295.63   0.3 +/- 0.02   \n",
       "0  Linear Regression - Lasso  2088.88 +/- 327.01   0.3 +/- 0.01   \n",
       "0    Random Forest Regressor   832.52 +/- 216.54  0.12 +/- 0.02   \n",
       "0          XGBoost Regressor  1057.93 +/- 145.68  0.15 +/- 0.02   \n",
       "\n",
       "              RMSE CV  \n",
       "0  2952.52 +/- 468.37  \n",
       "0   2988.6 +/- 499.57  \n",
       "0  1249.27 +/- 316.17  \n",
       "0   1513.43 +/- 206.0  "
      ]
     },
     "execution_count": 67,
     "metadata": {},
     "output_type": "execute_result"
    }
   ],
   "source": [
    "modelling_result_cv = pd.concat([lr_result_cv, lrr_result_cv, rf_result_cv, xgb_result_cv])\n",
    "modelling_result_cv"
   ]
  },
  {
   "cell_type": "markdown",
   "id": "66346d2a",
   "metadata": {
    "heading_collapsed": true
   },
   "source": [
    "# 8.0 hyperparameter fine tunning"
   ]
  },
  {
   "cell_type": "markdown",
   "id": "4306c0bf",
   "metadata": {
    "hidden": true
   },
   "source": [
    "## 8.1 random search"
   ]
  },
  {
   "cell_type": "code",
   "execution_count": 37,
   "id": "6dc9e724",
   "metadata": {
    "ExecuteTime": {
     "end_time": "2024-11-14T19:01:27.678920Z",
     "start_time": "2024-11-14T19:01:27.672805Z"
    },
    "hidden": true
   },
   "outputs": [],
   "source": [
    "# param = {\n",
    "#    'n_estimators': [1500, 1700, 2500, 3000, 3500],\n",
    "#    'eta': [0.01, 0.03],\n",
    "#    'max_depth': [3, 5, 9],\n",
    "#    'subsample': [0.1, 0.5, 0.7],\n",
    "#    'colsample_bytree': [0.3, 0.7, 0.9],\n",
    "#    'min_child_weight': [3, 8, 15]\n",
    "#        }\n",
    "\n",
    "# MAX_EVAL = 5"
   ]
  },
  {
   "cell_type": "code",
   "execution_count": 39,
   "id": "dda4b2fb",
   "metadata": {
    "ExecuteTime": {
     "end_time": "2024-11-14T19:12:14.335800Z",
     "start_time": "2024-11-14T19:04:19.467004Z"
    },
    "hidden": true
   },
   "outputs": [
    {
     "name": "stdout",
     "output_type": "stream",
     "text": [
      "{'n_estimators': 3500, 'eta': 0.03, 'max_depth': 5, 'subsample': 0.1, 'colsample_bytree': 0.3, 'min_child_weight': 8}\n",
      "\n",
      "KFold Number: 5\n",
      "\n",
      "KFold Number: 4\n",
      "\n",
      "KFold Number: 3\n",
      "\n",
      "KFold Number: 2\n",
      "\n",
      "KFold Number: 1\n",
      "{'n_estimators': 3000, 'eta': 0.03, 'max_depth': 5, 'subsample': 0.7, 'colsample_bytree': 0.3, 'min_child_weight': 15}\n",
      "\n",
      "KFold Number: 5\n",
      "\n",
      "KFold Number: 4\n",
      "\n",
      "KFold Number: 3\n",
      "\n",
      "KFold Number: 2\n",
      "\n",
      "KFold Number: 1\n",
      "{'n_estimators': 3500, 'eta': 0.03, 'max_depth': 3, 'subsample': 0.5, 'colsample_bytree': 0.7, 'min_child_weight': 3}\n",
      "\n",
      "KFold Number: 5\n",
      "\n",
      "KFold Number: 4\n",
      "\n",
      "KFold Number: 3\n",
      "\n",
      "KFold Number: 2\n",
      "\n",
      "KFold Number: 1\n",
      "{'n_estimators': 1500, 'eta': 0.01, 'max_depth': 9, 'subsample': 0.7, 'colsample_bytree': 0.3, 'min_child_weight': 3}\n",
      "\n",
      "KFold Number: 5\n",
      "\n",
      "KFold Number: 4\n",
      "\n",
      "KFold Number: 3\n",
      "\n",
      "KFold Number: 2\n",
      "\n",
      "KFold Number: 1\n",
      "{'n_estimators': 3000, 'eta': 0.01, 'max_depth': 3, 'subsample': 0.7, 'colsample_bytree': 0.9, 'min_child_weight': 15}\n",
      "\n",
      "KFold Number: 5\n",
      "\n",
      "KFold Number: 4\n",
      "\n",
      "KFold Number: 3\n",
      "\n",
      "KFold Number: 2\n",
      "\n",
      "KFold Number: 1\n"
     ]
    },
    {
     "data": {
      "text/html": [
       "<div>\n",
       "<style scoped>\n",
       "    .dataframe tbody tr th:only-of-type {\n",
       "        vertical-align: middle;\n",
       "    }\n",
       "\n",
       "    .dataframe tbody tr th {\n",
       "        vertical-align: top;\n",
       "    }\n",
       "\n",
       "    .dataframe thead th {\n",
       "        text-align: right;\n",
       "    }\n",
       "</style>\n",
       "<table border=\"1\" class=\"dataframe\">\n",
       "  <thead>\n",
       "    <tr style=\"text-align: right;\">\n",
       "      <th></th>\n",
       "      <th>Model Name</th>\n",
       "      <th>MAE CV</th>\n",
       "      <th>MAPE CV</th>\n",
       "      <th>RMSE CV</th>\n",
       "    </tr>\n",
       "  </thead>\n",
       "  <tbody>\n",
       "    <tr>\n",
       "      <th>0</th>\n",
       "      <td>XGBoost Regressor</td>\n",
       "      <td>1042.47 +/- 121.23</td>\n",
       "      <td>0.15 +/- 0.01</td>\n",
       "      <td>1495.71 +/- 175.42</td>\n",
       "    </tr>\n",
       "    <tr>\n",
       "      <th>0</th>\n",
       "      <td>XGBoost Regressor</td>\n",
       "      <td>1041.38 +/- 124.94</td>\n",
       "      <td>0.15 +/- 0.01</td>\n",
       "      <td>1495.83 +/- 178.04</td>\n",
       "    </tr>\n",
       "    <tr>\n",
       "      <th>0</th>\n",
       "      <td>XGBoost Regressor</td>\n",
       "      <td>1319.22 +/- 133.77</td>\n",
       "      <td>0.18 +/- 0.01</td>\n",
       "      <td>1903.81 +/- 172.68</td>\n",
       "    </tr>\n",
       "    <tr>\n",
       "      <th>0</th>\n",
       "      <td>XGBoost Regressor</td>\n",
       "      <td>1054.11 +/- 133.92</td>\n",
       "      <td>0.14 +/- 0.01</td>\n",
       "      <td>1527.86 +/- 193.2</td>\n",
       "    </tr>\n",
       "    <tr>\n",
       "      <th>0</th>\n",
       "      <td>XGBoost Regressor</td>\n",
       "      <td>1645.08 +/- 161.45</td>\n",
       "      <td>0.23 +/- 0.01</td>\n",
       "      <td>2372.78 +/- 211.91</td>\n",
       "    </tr>\n",
       "  </tbody>\n",
       "</table>\n",
       "</div>"
      ],
      "text/plain": [
       "          Model Name              MAE CV        MAPE CV             RMSE CV\n",
       "0  XGBoost Regressor  1042.47 +/- 121.23  0.15 +/- 0.01  1495.71 +/- 175.42\n",
       "0  XGBoost Regressor  1041.38 +/- 124.94  0.15 +/- 0.01  1495.83 +/- 178.04\n",
       "0  XGBoost Regressor  1319.22 +/- 133.77  0.18 +/- 0.01  1903.81 +/- 172.68\n",
       "0  XGBoost Regressor  1054.11 +/- 133.92  0.14 +/- 0.01   1527.86 +/- 193.2\n",
       "0  XGBoost Regressor  1645.08 +/- 161.45  0.23 +/- 0.01  2372.78 +/- 211.91"
      ]
     },
     "execution_count": 39,
     "metadata": {},
     "output_type": "execute_result"
    }
   ],
   "source": [
    "# final_result = pd.DataFrame()\n",
    "\n",
    "# for i in range(MAX_EVAL):\n",
    "#    # choose values for parameters randomly\n",
    "#    hp = {k: random.sample(v, 1)[0] for k, v in param.items()}\n",
    "#    print(hp)\n",
    "   \n",
    "#    # model\n",
    "#    model_xgb = xgb.XGBRegressor( objective='reg:squarederror',\n",
    "#                                  n_estimators=hp['n_estimators'], \n",
    "#                                  eta=hp['eta'], \n",
    "#                                  max_depth=hp['max_depth'], \n",
    "#                                  subsample=hp['subsample'],\n",
    "#                                  colsample_bytree=hp['colsample_bytree'],\n",
    "#                                  min_child_weight=hp['min_child_weight'])\n",
    "\n",
    "#    # performance\n",
    "#    result = cross_validation(x_training, 5, 'XGBoost Regressor', model_xgb, verbose=True)\n",
    "#    final_result = pd.concat([final_result, result])\n",
    "       \n",
    "# final_result"
   ]
  },
  {
   "cell_type": "markdown",
   "id": "fe4f5bc3",
   "metadata": {
    "hidden": true
   },
   "source": [
    "## 8.2 final model"
   ]
  },
  {
   "cell_type": "code",
   "execution_count": 50,
   "id": "509ed1c1",
   "metadata": {
    "ExecuteTime": {
     "end_time": "2024-11-14T21:32:35.698807Z",
     "start_time": "2024-11-14T21:32:35.693559Z"
    },
    "hidden": true
   },
   "outputs": [],
   "source": [
    "param_tuned = {\n",
    "    'n_estimators': 4000,\n",
    "    'eta': 0.03,\n",
    "    'max_depth': 5,\n",
    "    'subsample': 0.7,\n",
    "    'colsample_bytree': 0.7,\n",
    "    'min_child_weight': 3 \n",
    "        }"
   ]
  },
  {
   "cell_type": "code",
   "execution_count": 51,
   "id": "27a6433f",
   "metadata": {
    "ExecuteTime": {
     "end_time": "2024-11-14T21:33:09.640967Z",
     "start_time": "2024-11-14T21:32:37.760748Z"
    },
    "hidden": true
   },
   "outputs": [
    {
     "data": {
      "text/html": [
       "<div>\n",
       "<style scoped>\n",
       "    .dataframe tbody tr th:only-of-type {\n",
       "        vertical-align: middle;\n",
       "    }\n",
       "\n",
       "    .dataframe tbody tr th {\n",
       "        vertical-align: top;\n",
       "    }\n",
       "\n",
       "    .dataframe thead th {\n",
       "        text-align: right;\n",
       "    }\n",
       "</style>\n",
       "<table border=\"1\" class=\"dataframe\">\n",
       "  <thead>\n",
       "    <tr style=\"text-align: right;\">\n",
       "      <th></th>\n",
       "      <th>Model Name</th>\n",
       "      <th>MAE</th>\n",
       "      <th>MAPE</th>\n",
       "      <th>RMSE</th>\n",
       "    </tr>\n",
       "  </thead>\n",
       "  <tbody>\n",
       "    <tr>\n",
       "      <th>0</th>\n",
       "      <td>XGBoost Regressor</td>\n",
       "      <td>743.850362</td>\n",
       "      <td>0.110497</td>\n",
       "      <td>1077.677541</td>\n",
       "    </tr>\n",
       "  </tbody>\n",
       "</table>\n",
       "</div>"
      ],
      "text/plain": [
       "          Model Name         MAE      MAPE         RMSE\n",
       "0  XGBoost Regressor  743.850362  0.110497  1077.677541"
      ]
     },
     "execution_count": 51,
     "metadata": {},
     "output_type": "execute_result"
    }
   ],
   "source": [
    "# model\n",
    "model_xgb_tuned = xgb.XGBRegressor( objective='reg:squarederror',\n",
    "                                    n_estimators=param_tuned['n_estimators'], \n",
    "                                    eta=param_tuned['eta'], \n",
    "                                    max_depth=param_tuned['max_depth'], \n",
    "                                    subsample=param_tuned['subsample'],\n",
    "                                    colsample_bytree=param_tuned['colsample_bytree'],\n",
    "                                    min_child_weight=param_tuned['min_child_weight']).fit(x_train, y_train)\n",
    "\n",
    "# prediction\n",
    "yhat_xgb_tuned = model_xgb_tuned.predict(x_test)\n",
    "\n",
    "# performance\n",
    "xgb_result_tuned = ml_error('XGBoost Regressor', np.expm1(y_test), np.expm1(yhat_xgb_tuned))\n",
    "xgb_result_tuned"
   ]
  },
  {
   "cell_type": "markdown",
   "id": "99a7c650",
   "metadata": {
    "heading_collapsed": true
   },
   "source": [
    "# 9.0 interpretation of the error"
   ]
  },
  {
   "cell_type": "code",
   "execution_count": 56,
   "id": "83cf1855",
   "metadata": {
    "ExecuteTime": {
     "end_time": "2024-11-14T21:45:23.683294Z",
     "start_time": "2024-11-14T21:45:23.671323Z"
    },
    "hidden": true
   },
   "outputs": [],
   "source": [
    "df9 = X_test[cols_selected_boruta_full]\n",
    "\n",
    "# rescale\n",
    "df9['sales'] = np.expm1(df9['sales'])\n",
    "df9['predictions'] = np.expm1(yhat_xgb_tuned)"
   ]
  },
  {
   "cell_type": "markdown",
   "id": "5916a266",
   "metadata": {
    "hidden": true
   },
   "source": [
    "## 9.1 business performance"
   ]
  },
  {
   "cell_type": "code",
   "execution_count": 65,
   "id": "8a26417f",
   "metadata": {
    "ExecuteTime": {
     "end_time": "2024-11-14T22:07:26.211406Z",
     "start_time": "2024-11-14T22:07:25.871443Z"
    },
    "hidden": true
   },
   "outputs": [],
   "source": [
    "df91 = df9[['store', 'predictions']].groupby('store').sum().reset_index()\n",
    "\n",
    "# MAE/MAPE\n",
    "df9_aux1 = df9[['store', 'sales', 'predictions']].groupby('store').apply(lambda x: mean_absolute_error(x['sales'], x['predictions'])).reset_index().rename(columns={0:'MAE'})\n",
    "df9_aux2 = df9[['store', 'sales', 'predictions']].groupby('store').apply(lambda x: mean_absolute_percentage_error(x['sales'], x['predictions'])).reset_index().rename(columns={0:'MAPE'})\n",
    "\n",
    "# merge\n",
    "df9_aux3 = pd.merge(df9_aux1, df9_aux2, how='inner', on='store')\n",
    "df92 = pd.merge(df91, df9_aux3, how='inner', on='store')\n",
    "\n",
    "#scenarios\n",
    "df92['worst_scenario'] = df92['predictions'] - df92['MAE']\n",
    "df92['best_scenario'] = df92['predictions'] + df92['MAE']\n",
    "\n",
    "#order columns\n",
    "df92 = df92[['store', 'predictions', 'worst_scenario', 'best_scenario', 'MAE', 'MAPE' ]]"
   ]
  },
  {
   "cell_type": "code",
   "execution_count": 66,
   "id": "1877c83e",
   "metadata": {
    "ExecuteTime": {
     "end_time": "2024-11-14T22:07:33.448743Z",
     "start_time": "2024-11-14T22:07:33.438145Z"
    },
    "hidden": true
   },
   "outputs": [
    {
     "data": {
      "text/html": [
       "<div>\n",
       "<style scoped>\n",
       "    .dataframe tbody tr th:only-of-type {\n",
       "        vertical-align: middle;\n",
       "    }\n",
       "\n",
       "    .dataframe tbody tr th {\n",
       "        vertical-align: top;\n",
       "    }\n",
       "\n",
       "    .dataframe thead th {\n",
       "        text-align: right;\n",
       "    }\n",
       "</style>\n",
       "<table border=\"1\" class=\"dataframe\">\n",
       "  <thead>\n",
       "    <tr style=\"text-align: right;\">\n",
       "      <th></th>\n",
       "      <th>store</th>\n",
       "      <th>predictions</th>\n",
       "      <th>worst_scenario</th>\n",
       "      <th>best_scenario</th>\n",
       "      <th>MAE</th>\n",
       "      <th>MAPE</th>\n",
       "    </tr>\n",
       "  </thead>\n",
       "  <tbody>\n",
       "    <tr>\n",
       "      <th>0</th>\n",
       "      <td>1</td>\n",
       "      <td>171600.687500</td>\n",
       "      <td>171242.847333</td>\n",
       "      <td>171958.527667</td>\n",
       "      <td>357.840167</td>\n",
       "      <td>0.082446</td>\n",
       "    </tr>\n",
       "    <tr>\n",
       "      <th>1</th>\n",
       "      <td>2</td>\n",
       "      <td>191830.921875</td>\n",
       "      <td>191334.585007</td>\n",
       "      <td>192327.258743</td>\n",
       "      <td>496.336868</td>\n",
       "      <td>0.105067</td>\n",
       "    </tr>\n",
       "    <tr>\n",
       "      <th>2</th>\n",
       "      <td>3</td>\n",
       "      <td>268824.812500</td>\n",
       "      <td>268166.053612</td>\n",
       "      <td>269483.571388</td>\n",
       "      <td>658.758888</td>\n",
       "      <td>0.091637</td>\n",
       "    </tr>\n",
       "    <tr>\n",
       "      <th>3</th>\n",
       "      <td>4</td>\n",
       "      <td>337673.000000</td>\n",
       "      <td>336733.178988</td>\n",
       "      <td>338612.821012</td>\n",
       "      <td>939.821012</td>\n",
       "      <td>0.089043</td>\n",
       "    </tr>\n",
       "    <tr>\n",
       "      <th>4</th>\n",
       "      <td>5</td>\n",
       "      <td>174536.078125</td>\n",
       "      <td>174115.284797</td>\n",
       "      <td>174956.871453</td>\n",
       "      <td>420.793328</td>\n",
       "      <td>0.089933</td>\n",
       "    </tr>\n",
       "  </tbody>\n",
       "</table>\n",
       "</div>"
      ],
      "text/plain": [
       "   store    predictions  worst_scenario  best_scenario         MAE      MAPE\n",
       "0      1  171600.687500   171242.847333  171958.527667  357.840167  0.082446\n",
       "1      2  191830.921875   191334.585007  192327.258743  496.336868  0.105067\n",
       "2      3  268824.812500   268166.053612  269483.571388  658.758888  0.091637\n",
       "3      4  337673.000000   336733.178988  338612.821012  939.821012  0.089043\n",
       "4      5  174536.078125   174115.284797  174956.871453  420.793328  0.089933"
      ]
     },
     "execution_count": 66,
     "metadata": {},
     "output_type": "execute_result"
    }
   ],
   "source": [
    "df92.head()"
   ]
  },
  {
   "cell_type": "code",
   "execution_count": 67,
   "id": "0fa88259",
   "metadata": {
    "ExecuteTime": {
     "end_time": "2024-11-14T22:12:08.424334Z",
     "start_time": "2024-11-14T22:12:08.261210Z"
    },
    "hidden": true
   },
   "outputs": [
    {
     "data": {
      "text/plain": [
       "<Axes: xlabel='store', ylabel='MAPE'>"
      ]
     },
     "execution_count": 67,
     "metadata": {},
     "output_type": "execute_result"
    },
    {
     "data": {
      "image/png": "[encoded data removed]",
      "text/plain": [
       "<Figure size 2500x1200 with 1 Axes>"
      ]
     },
     "metadata": {},
     "output_type": "display_data"
    }
   ],
   "source": [
    "sns.scatterplot(x='store', y='MAPE', data=df92)"
   ]
  },
  {
   "cell_type": "markdown",
   "id": "df5dcfa6",
   "metadata": {
    "hidden": true
   },
   "source": [
    "## 9.2 total performance"
   ]
  },
  {
   "cell_type": "code",
   "execution_count": 72,
   "id": "ea49ccf6",
   "metadata": {
    "ExecuteTime": {
     "end_time": "2024-11-14T22:19:15.743956Z",
     "start_time": "2024-11-14T22:19:15.729518Z"
    },
    "hidden": true
   },
   "outputs": [
    {
     "data": {
      "text/html": [
       "<div>\n",
       "<style scoped>\n",
       "    .dataframe tbody tr th:only-of-type {\n",
       "        vertical-align: middle;\n",
       "    }\n",
       "\n",
       "    .dataframe tbody tr th {\n",
       "        vertical-align: top;\n",
       "    }\n",
       "\n",
       "    .dataframe thead th {\n",
       "        text-align: right;\n",
       "    }\n",
       "</style>\n",
       "<table border=\"1\" class=\"dataframe\">\n",
       "  <thead>\n",
       "    <tr style=\"text-align: right;\">\n",
       "      <th></th>\n",
       "      <th>scenario</th>\n",
       "      <th>values</th>\n",
       "    </tr>\n",
       "  </thead>\n",
       "  <tbody>\n",
       "    <tr>\n",
       "      <th>0</th>\n",
       "      <td>predictions</td>\n",
       "      <td>R$285,729,632.00</td>\n",
       "    </tr>\n",
       "    <tr>\n",
       "      <th>1</th>\n",
       "      <td>best_scenario</td>\n",
       "      <td>R$286,562,362.82</td>\n",
       "    </tr>\n",
       "    <tr>\n",
       "      <th>2</th>\n",
       "      <td>worst_scenario</td>\n",
       "      <td>R$284,896,914.85</td>\n",
       "    </tr>\n",
       "  </tbody>\n",
       "</table>\n",
       "</div>"
      ],
      "text/plain": [
       "         scenario            values\n",
       "0     predictions  R$285,729,632.00\n",
       "1   best_scenario  R$286,562,362.82\n",
       "2  worst_scenario  R$284,896,914.85"
      ]
     },
     "execution_count": 72,
     "metadata": {},
     "output_type": "execute_result"
    }
   ],
   "source": [
    "df93 = df92[['predictions', 'best_scenario', 'worst_scenario']].apply(lambda x: np.sum(x), axis=0).reset_index().rename(columns={'index': 'scenario', 0: 'values'})\n",
    "df93['values'] = df93['values'].map('R${:,.2f}'.format)\n",
    "df93.head()"
   ]
  },
  {
   "cell_type": "markdown",
   "id": "22a7d030",
   "metadata": {
    "hidden": true
   },
   "source": [
    "## 9.3 machine learning performance"
   ]
  },
  {
   "cell_type": "code",
   "execution_count": 73,
   "id": "af686313",
   "metadata": {
    "ExecuteTime": {
     "end_time": "2024-11-14T22:27:41.616852Z",
     "start_time": "2024-11-14T22:27:41.609257Z"
    },
    "hidden": true
   },
   "outputs": [],
   "source": [
    "df9['error'] = df9['sales'] - df9['predictions']\n",
    "df9['error_rate'] = df9['predictions'] / df9['sales']"
   ]
  },
  {
   "cell_type": "code",
   "execution_count": 76,
   "id": "8c57892e",
   "metadata": {
    "ExecuteTime": {
     "end_time": "2024-11-14T22:28:57.772345Z",
     "start_time": "2024-11-14T22:28:55.950645Z"
    },
    "hidden": true
   },
   "outputs": [
    {
     "data": {
      "image/png": "[encoded data removed]",
      "text/plain": [
       "<Figure size 2500x1200 with 4 Axes>"
      ]
     },
     "metadata": {},
     "output_type": "display_data"
    }
   ],
   "source": [
    "plt.subplot(2, 2, 1) \n",
    "sns.lineplot(x='date', y='sales', data=df9, label='SALES')\n",
    "sns.lineplot(x='date', y='predictions', data=df9, label=' PREDICTIONS')\n",
    "\n",
    "plt.subplot(2, 2, 2)\n",
    "sns.lineplot(x='date', y='error_rate', data=df9)\n",
    "plt.axhline(1, linestyle='--')\n",
    "\n",
    "plt.subplot(2, 2, 3) \n",
    "sns.distplot(df9['error'])\n",
    "\n",
    "plt.subplot(2, 2, 4)\n",
    "sns.scatterplot(x='predictions', y='error', data=df9);"
   ]
  },
  {
   "cell_type": "markdown",
   "id": "a3e730d8",
   "metadata": {},
   "source": [
    "# 10.0 deploy model to production"
   ]
  },
  {
   "cell_type": "code",
   "execution_count": 54,
   "id": "d63b1f9d",
   "metadata": {
    "ExecuteTime": {
     "end_time": "2024-11-14T21:36:40.593756Z",
     "start_time": "2024-11-14T21:36:40.559598Z"
    }
   },
   "outputs": [],
   "source": [
    "#trained model\n",
    "pickle.dump(model_xgb_tuned, open('/Users/raphael/Documents/repos/rossmann_sales/model/model_rossmann.pkl', 'wb'))"
   ]
  },
  {
   "cell_type": "markdown",
   "id": "f45504d8",
   "metadata": {},
   "source": [
    "## 10.1 rossmann class"
   ]
  },
  {
   "cell_type": "code",
   "execution_count": null,
   "id": "982a66f4",
   "metadata": {},
   "outputs": [],
   "source": [
    "import pickle\n",
    "import inflection\n",
    "import pandas as pd\n",
    "import numpy as np\n",
    "import math\n",
    "import datetime\n",
    "\n",
    "class Rossmann( object ):\n",
    "    def __init__( self ):\n",
    "        self.home_path='/Users/raphael/Documents/repos/rossmann_sales/'\n",
    "        self.competition_distance_scaler   = pickle.load( open( self.home_path + 'parameter/competition_distance_scaler.pkl', 'rb') )\n",
    "        self.competition_time_month_scaler = pickle.load( open( self.home_path + 'parameter/competition_time_month_scaler.pkl', 'rb') )\n",
    "        self.promo_time_week_scaler        = pickle.load( open( self.home_path + 'parameter/promo_time_week_scaler.pkl', 'rb') )\n",
    "        self.store_type_scaler             = pickle.load( open( self.home_path + 'parameter/store_type_scaler.pkl', 'rb') )\n",
    "        self.year_scaler                   = pickle.load( open( self.home_path + 'parameter/year_scaler.pkl', 'rb') )\n",
    "        \n",
    "        \n",
    "    def data_cleaning( self, df1 ): \n",
    "        \n",
    "        ## 1.1. Rename Columns\n",
    "        cols_old = ['Store', 'DayOfWeek', 'Date', 'Open', 'Promo', 'StateHoliday', 'SchoolHoliday', \n",
    "                    'StoreType', 'Assortment', 'CompetitionDistance', 'CompetitionOpenSinceMonth',\n",
    "                    'CompetitionOpenSinceYear', 'Promo2', 'Promo2SinceWeek', 'Promo2SinceYear', 'PromoInterval']\n",
    "\n",
    "        snakecase = lambda x: inflection.underscore( x )\n",
    "\n",
    "        cols_new = list( map( snakecase, cols_old ) )\n",
    "\n",
    "        # rename\n",
    "        df1.columns = cols_new\n",
    "\n",
    "        ## 1.3. Data Types\n",
    "        df1['date'] = pd.to_datetime( df1['date'] )\n",
    "\n",
    "        ## 1.5. Fillout NA\n",
    "        #competition_distance        \n",
    "        df1['competition_distance'] = df1['competition_distance'].apply( lambda x: 200000.0 if math.isnan( x ) else x )\n",
    "\n",
    "        #competition_open_since_month\n",
    "        df1['competition_open_since_month'] = df1.apply( lambda x: x['date'].month if math.isnan( x['competition_open_since_month'] ) else x['competition_open_since_month'], axis=1 )\n",
    "\n",
    "        #competition_open_since_year \n",
    "        df1['competition_open_since_year'] = df1.apply( lambda x: x['date'].year if math.isnan( x['competition_open_since_year'] ) else x['competition_open_since_year'], axis=1 )\n",
    "\n",
    "        #promo2_since_week           \n",
    "        df1['promo2_since_week'] = df1.apply( lambda x: x['date'].week if math.isnan( x['promo2_since_week'] ) else x['promo2_since_week'], axis=1 )\n",
    "\n",
    "        #promo2_since_year           \n",
    "        df1['promo2_since_year'] = df1.apply( lambda x: x['date'].year if math.isnan( x['promo2_since_year'] ) else x['promo2_since_year'], axis=1 )\n",
    "\n",
    "        #promo_interval              \n",
    "        month_map = {1: 'Jan',  2: 'Fev',  3: 'Mar',  4: 'Apr',  5: 'May',  6: 'Jun',  7: 'Jul',  8: 'Aug',  9: 'Sep',  10: 'Oct', 11: 'Nov', 12: 'Dec'}\n",
    "\n",
    "        df1['promo_interval'].fillna(0, inplace=True )\n",
    "\n",
    "        df1['month_map'] = df1['date'].dt.month.map( month_map )\n",
    "\n",
    "        df1['is_promo'] = df1[['promo_interval', 'month_map']].apply( lambda x: 0 if x['promo_interval'] == 0 else 1 if x['month_map'] in x['promo_interval'].split( ',' ) else 0, axis=1 )\n",
    "\n",
    "        ## 1.6. Change Data Types\n",
    "        # competiton\n",
    "        df1['competition_open_since_month'] = df1['competition_open_since_month'].astype( int )\n",
    "        df1['competition_open_since_year'] = df1['competition_open_since_year'].astype( int )\n",
    "\n",
    "        # promo2\n",
    "        df1['promo2_since_week'] = df1['promo2_since_week'].astype( int )\n",
    "        df1['promo2_since_year'] = df1['promo2_since_year'].astype( int )\n",
    "        \n",
    "        return df1 \n",
    "\n",
    "\n",
    "    def feature_engineering( self, df2 ):\n",
    "\n",
    "        # year\n",
    "        df2['year'] = df2['date'].dt.year\n",
    "\n",
    "        # month\n",
    "        df2['month'] = df2['date'].dt.month\n",
    "\n",
    "        # day\n",
    "        df2['day'] = df2['date'].dt.day\n",
    "\n",
    "        # week of year\n",
    "        df2['week_of_year'] = df2['date'].dt.isocalendar().week\n",
    "\n",
    "        # year week\n",
    "        df2['year_week'] = df2['date'].dt.strftime( '%Y-%W' )\n",
    "\n",
    "        # competition since\n",
    "        df2['competition_since'] = df2.apply( lambda x: datetime.datetime( year=x['competition_open_since_year'], month=x['competition_open_since_month'],day=1 ), axis=1 )\n",
    "        df2['competition_time_month'] = ( ( df2['date'] - df2['competition_since'] )/30 ).apply( lambda x: x.days ).astype( int )\n",
    "\n",
    "        # promo since\n",
    "        df2['promo_since'] = df2['promo2_since_year'].astype( str ) + '-' + df2['promo2_since_week'].astype( str )\n",
    "        df2['promo_since'] = df2['promo_since'].apply( lambda x: datetime.datetime.strptime( x + '-1', '%Y-%W-%w' ) - datetime.timedelta( days=7 ) )\n",
    "        df2['promo_time_week'] = ( ( df2['date'] - df2['promo_since'] )/7 ).apply( lambda x: x.days ).astype( int )\n",
    "\n",
    "        # assortment\n",
    "        df2['assortment'] = df2['assortment'].apply( lambda x: 'basic' if x == 'a' else 'extra' if x == 'b' else 'extended' )\n",
    "\n",
    "        # state holiday\n",
    "        df2['state_holiday'] = df2['state_holiday'].apply( lambda x: 'public_holiday' if x == 'a' else 'easter_holiday' if x == 'b' else 'christmas' if x == 'c' else 'regular_day' )\n",
    "\n",
    "        df2 = df2[df2['open'] != 0]\n",
    "\n",
    "        cols_drop = ['open', 'promo_interval', 'month_map']\n",
    "        df2 = df2.drop( cols_drop, axis=1 )\n",
    "        \n",
    "        return df2\n",
    "\n",
    "\n",
    "    def data_preparation( self, df5 ):\n",
    "\n",
    "        ## 5.2. Rescaling \n",
    "        # competition distance\n",
    "        df5['competition_distance'] = self.competition_distance_scaler.fit_transform( df5[['competition_distance']].values )\n",
    "    \n",
    "        # competition time month\n",
    "        df5['competition_time_month'] = self.competition_time_month_scaler.fit_transform( df5[['competition_time_month']].values )\n",
    "\n",
    "        # promo time week\n",
    "        df5['promo_time_week'] = self.promo_time_week_scaler.fit_transform( df5[['promo_time_week']].values )\n",
    "        \n",
    "        # year\n",
    "        df5['year'] = self.year_scaler.fit_transform( df5[['year']].values )\n",
    "\n",
    "        ### 5.3.1. Encoding\n",
    "        # state_holiday - One Hot Encoding\n",
    "        df5 = pd.get_dummies( df5, prefix=['state_holiday'], columns=['state_holiday'] )\n",
    "\n",
    "        # store_type - Label Encoding\n",
    "        df5['store_type'] = self.store_type_scaler.fit_transform( df5['store_type'] )\n",
    "\n",
    "        # assortment - Ordinal Encoding\n",
    "        assortment_dict = {'basic': 1,  'extra': 2, 'extended': 3}\n",
    "        df5['assortment'] = df5['assortment'].map( assortment_dict )\n",
    "\n",
    "        \n",
    "        ### 5.3.3. Nature Transformation\n",
    "        # day of week\n",
    "        df5['day_of_week_sin'] = df5['day_of_week'].apply( lambda x: np.sin( x * ( 2. * np.pi/7 ) ) )\n",
    "        df5['day_of_week_cos'] = df5['day_of_week'].apply( lambda x: np.cos( x * ( 2. * np.pi/7 ) ) )\n",
    "\n",
    "        # month\n",
    "        df5['month_sin'] = df5['month'].apply( lambda x: np.sin( x * ( 2. * np.pi/12 ) ) )\n",
    "        df5['month_cos'] = df5['month'].apply( lambda x: np.cos( x * ( 2. * np.pi/12 ) ) )\n",
    "\n",
    "        # day \n",
    "        df5['day_sin'] = df5['day'].apply( lambda x: np.sin( x * ( 2. * np.pi/30 ) ) )\n",
    "        df5['day_cos'] = df5['day'].apply( lambda x: np.cos( x * ( 2. * np.pi/30 ) ) )\n",
    "\n",
    "        # week of year\n",
    "        df5['week_of_year_sin'] = df5['week_of_year'].apply( lambda x: np.sin( x * ( 2. * np.pi/52 ) ) )\n",
    "        df5['week_of_year_cos'] = df5['week_of_year'].apply( lambda x: np.cos( x * ( 2. * np.pi/52 ) ) )\n",
    "        \n",
    "        \n",
    "        cols_selected = [ 'store', 'promo', 'store_type', 'assortment', 'competition_distance', 'competition_open_since_month',\n",
    "            'competition_open_since_year', 'promo2', 'promo2_since_week', 'promo2_since_year', 'competition_time_month', 'promo_time_week',\n",
    "            'day_of_week_sin', 'day_of_week_cos', 'month_sin', 'month_cos', 'day_sin', 'day_cos', 'week_of_year_sin', 'week_of_year_cos']\n",
    "        \n",
    "        return df5[ cols_selected ]\n",
    "    \n",
    "    \n",
    "    def get_prediction( self, model, original_data, test_data ):\n",
    "        # prediction\n",
    "        pred = model.predict( test_data )\n",
    "        \n",
    "        # join pred into the original data\n",
    "        original_data['prediction'] = np.expm1( pred )\n",
    "        \n",
    "        return original_data.to_json( orient='records', date_format='iso' )"
   ]
  },
  {
   "cell_type": "markdown",
   "id": "d5409aa3",
   "metadata": {},
   "source": [
    "## 10.2 api handler"
   ]
  },
  {
   "cell_type": "code",
   "execution_count": null,
   "id": "fe7b90c7",
   "metadata": {},
   "outputs": [],
   "source": [
    "import pickle\n",
    "import pandas as pd\n",
    "from flask             import Flask, request, Response\n",
    "from rossmann.Rossmann import Rossmann\n",
    "\n",
    "# loading model\n",
    "model = pickle.load( open( '/Users/raphael/Documents/repos/rossmann_sales/model/model_rossmann.pkl', 'rb') )\n",
    "\n",
    "# initialize API\n",
    "app = Flask( __name__ )\n",
    "\n",
    "@app.route( '/rossmann/predict', methods=['POST'] )\n",
    "def rossmann_predict():\n",
    "    test_json = request.get_json()\n",
    "   \n",
    "    if test_json: # there is data\n",
    "        if isinstance( test_json, dict ): # unique example\n",
    "            test_raw = pd.DataFrame( test_json, index=[0] )\n",
    "            \n",
    "        else: # multiple example\n",
    "            test_raw = pd.DataFrame( test_json, columns=test_json[0].keys() )\n",
    "            \n",
    "        # Instantiate Rossmann class\n",
    "        pipeline = Rossmann()\n",
    "        \n",
    "        # data cleaning\n",
    "        df1 = pipeline.data_cleaning( test_raw )\n",
    "        \n",
    "        # feature engineering\n",
    "        df2 = pipeline.feature_engineering( df1 )\n",
    "        \n",
    "        # data preparation\n",
    "        df3 = pipeline.data_preparation( df2 )\n",
    "        \n",
    "        # prediction\n",
    "        df_response = pipeline.get_prediction( model, test_raw, df3 )\n",
    "        \n",
    "        return df_response\n",
    "        \n",
    "        \n",
    "    else:\n",
    "        return Response( '{}', status=200, mimetype='application/json' )\n",
    "\n",
    "if __name__ == '__main__':\n",
    "    app.run( '0.0.0.0' )"
   ]
  },
  {
   "cell_type": "markdown",
   "id": "4711a4ea",
   "metadata": {},
   "source": [
    "## 10.3 api tester"
   ]
  },
  {
   "cell_type": "code",
   "execution_count": 116,
   "id": "1e3a5bd8",
   "metadata": {
    "ExecuteTime": {
     "end_time": "2024-11-17T19:49:52.002218Z",
     "start_time": "2024-11-17T19:49:51.966772Z"
    }
   },
   "outputs": [],
   "source": [
    "#load test dataset\n",
    "df10 = pd.read_csv('../data/test.csv')"
   ]
  },
  {
   "cell_type": "code",
   "execution_count": 117,
   "id": "39bdd324",
   "metadata": {
    "ExecuteTime": {
     "end_time": "2024-11-17T19:49:52.830181Z",
     "start_time": "2024-11-17T19:49:52.807149Z"
    }
   },
   "outputs": [],
   "source": [
    "#merge\n",
    "df_test = pd.merge(df10, df_store_raw, how='left', on='Store')\n",
    "\n",
    "#choose store for prediction\n",
    "df_test = df_test[df_test['Store'].isin([3, 15, 22])]\n",
    "\n",
    "#remove closed days\n",
    "df_test = df_test[df_test['Open'] != 0]\n",
    "df_test = df_test[~df_test['Open'].isnull()]\n",
    "df_test = df_test.drop('Id', axis=1)"
   ]
  },
  {
   "cell_type": "code",
   "execution_count": 118,
   "id": "fcdae4a1",
   "metadata": {
    "ExecuteTime": {
     "end_time": "2024-11-17T19:49:54.340282Z",
     "start_time": "2024-11-17T19:49:54.333538Z"
    }
   },
   "outputs": [],
   "source": [
    "# converto to json\n",
    "data = json.dumps(df_test.to_dict(orient='records'))"
   ]
  },
  {
   "cell_type": "code",
   "execution_count": 119,
   "id": "c5d5866a",
   "metadata": {
    "ExecuteTime": {
     "end_time": "2024-11-17T19:49:55.334648Z",
     "start_time": "2024-11-17T19:49:55.290141Z"
    }
   },
   "outputs": [
    {
     "name": "stdout",
     "output_type": "stream",
     "text": [
      "Status Code 200\n"
     ]
    }
   ],
   "source": [
    "# API CALL\n",
    "url = 'http://127.0.0.1:5000/rossmann/predict'\n",
    "header = {'Content-type': 'application/json'}\n",
    "data = data\n",
    "\n",
    "r = requests.post(url, data=data, headers=header)\n",
    "print('Status Code {}'.format(r.status_code))"
   ]
  },
  {
   "cell_type": "code",
   "execution_count": 120,
   "id": "1dd908a7",
   "metadata": {
    "ExecuteTime": {
     "end_time": "2024-11-17T19:49:56.331839Z",
     "start_time": "2024-11-17T19:49:56.321455Z"
    }
   },
   "outputs": [],
   "source": [
    "d1 = pd.DataFrame(r.json(), columns=r.json()[0].keys())"
   ]
  },
  {
   "cell_type": "code",
   "execution_count": 122,
   "id": "4ae9cf45",
   "metadata": {
    "ExecuteTime": {
     "end_time": "2024-11-17T19:50:02.313787Z",
     "start_time": "2024-11-17T19:50:02.305940Z"
    }
   },
   "outputs": [
    {
     "name": "stdout",
     "output_type": "stream",
     "text": [
      "store number 3 will sell R$229,665.80 in the next 6 weeks\n",
      "store number 15 will sell R$426,315.82 in the next 6 weeks\n",
      "store number 22 will sell R$161,355.52 in the next 6 weeks\n"
     ]
    }
   ],
   "source": [
    "d2 = d1[[ 'store', 'prediction']].groupby('store').sum().reset_index()\n",
    "\n",
    "for i in range(len(d2)):\n",
    "    print('store number {} will sell R${:,.2f} in the next 6 weeks'.format(d2.loc[i,'store'], d2.loc[i, 'prediction']))"
   ]
  },
  {
   "cell_type": "code",
   "execution_count": null,
   "id": "3d035c88",
   "metadata": {},
   "outputs": [],
   "source": []
  }
 ],
 "metadata": {
  "hide_input": false,
  "kernelspec": {
   "display_name": "Python 3 (ipykernel)",
   "language": "python",
   "name": "python3"
  },
  "language_info": {
   "codemirror_mode": {
    "name": "ipython",
    "version": 3
   },
   "file_extension": ".py",
   "mimetype": "text/x-python",
   "name": "python",
   "nbconvert_exporter": "python",
   "pygments_lexer": "ipython3",
   "version": "3.11.5"
  }
 },
 "nbformat": 4,
 "nbformat_minor": 5
}
